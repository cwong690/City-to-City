{
 "cells": [
  {
   "cell_type": "markdown",
   "metadata": {},
   "source": [
    "# Making Moves: Chicago to Seattle\n",
    "\n",
    "Moving to another city is always exciting but also comes with a lot of decisions. One of the biggest decisions is: where should I live?  \n",
    "The area you live can greatly impact your first impression of the new city, not to mention it's a decision you HAVE to make before you move!  \n",
    "Some people lived in busy places and would like a change of pace when they move. Others would like the same energy they lived around in their old city! This project is to help compare certain neighbourhoods between two cities (in this case, Chicago and Seattle) and help see which areas are similar and which ones might be the complete opposite.  \n",
    "\n",
    "After doing some neighbourhood research, we will compare the neighbourhood to move from, Wicker Park in Chicago, to Capitol Hill in Seattle and then also Queen Anne in Seattle.\n",
    "\n",
    "The data we will be using will be venue data from Foursquare. The venues we will be gathering will relate to many things that a person would be looking for when living, for example:  \n",
    "    - Grocery stores\n",
    "    - Affordability of these venues\n",
    "    - Restaurants\n",
    "    - Shopping Centers\n",
    "...and more!  \n",
    "  \n",
    "Capitol Hill and Queen Anne will be the two neighbourhoods we will say our client is looking to move into from Wicker Park in Chicago. Let's see if we can help them decide."
   ]
  },
  {
   "cell_type": "markdown",
   "metadata": {},
   "source": [
    "### Import libraries"
   ]
  },
  {
   "cell_type": "code",
   "execution_count": 2,
   "metadata": {},
   "outputs": [
    {
     "name": "stdout",
     "output_type": "stream",
     "text": [
      "Libraries imported.\n"
     ]
    }
   ],
   "source": [
    "import numpy as np\n",
    "import pandas as pd\n",
    "pd.set_option('display.max_columns', None)\n",
    "pd.set_option('display.max_rows', None)\n",
    "\n",
    "import json\n",
    "\n",
    "from geopy.geocoders import Nominatim # latitude/longitude converter\n",
    "\n",
    "import requests\n",
    "from pandas.io.json import json_normalize #json files to pandas dataframe\n",
    "\n",
    "import matplotlib.cm as cm\n",
    "import matplotlib.colors as colors\n",
    "\n",
    "import folium\n",
    "\n",
    "print('Libraries imported.')"
   ]
  },
  {
   "cell_type": "markdown",
   "metadata": {},
   "source": [
    "### Set up credentials"
   ]
  },
  {
   "cell_type": "code",
   "execution_count": 3,
   "metadata": {},
   "outputs": [
    {
     "name": "stdout",
     "output_type": "stream",
     "text": [
      "Client ID: VHZM10UIGEKH1UMU2RG0E13CGHNYPUFBVQ3QU2DHBO0VA2QF\n",
      "Client Secret: JGRJYABMNMV2LRIR3YOVVALEE2UBS5PBXEOIMMBWIT5HWLTU\n",
      "Version: 20180604\n"
     ]
    }
   ],
   "source": [
    "CLIENT_ID = 'VHZM10UIGEKH1UMU2RG0E13CGHNYPUFBVQ3QU2DHBO0VA2QF'\n",
    "CLIENT_SECRET = 'JGRJYABMNMV2LRIR3YOVVALEE2UBS5PBXEOIMMBWIT5HWLTU'\n",
    "VERSION = '20180604'\n",
    "\n",
    "print('Client ID: ' + CLIENT_ID)\n",
    "print('Client Secret: ' + CLIENT_SECRET)\n",
    "print('Version: '+ VERSION)"
   ]
  },
  {
   "cell_type": "markdown",
   "metadata": {},
   "source": [
    "# Methodology Section"
   ]
  },
  {
   "cell_type": "markdown",
   "metadata": {},
   "source": [
    "### Import Chicago data from Foursquare API and create DataFrame"
   ]
  },
  {
   "cell_type": "code",
   "execution_count": 4,
   "metadata": {},
   "outputs": [
    {
     "name": "stdout",
     "output_type": "stream",
     "text": [
      "Wicker Park, Chicago, IL coordinates:  41.9078018 -87.6781551\n"
     ]
    }
   ],
   "source": [
    "c_address = 'Wicker Park, Chicago, IL'\n",
    "\n",
    "c_geolocator = Nominatim(user_agent='foursquare_agent')\n",
    "c_location = c_geolocator.geocode(c_address)\n",
    "c_latitude = c_location.latitude\n",
    "c_longitude = c_location.longitude\n",
    "print('Wicker Park, Chicago, IL coordinates: ', c_latitude, c_longitude)"
   ]
  },
  {
   "cell_type": "code",
   "execution_count": 5,
   "metadata": {},
   "outputs": [
    {
     "name": "stdout",
     "output_type": "stream",
     "text": [
      "https://api.foursquare.com/v2/venues/explore?client_id=VHZM10UIGEKH1UMU2RG0E13CGHNYPUFBVQ3QU2DHBO0VA2QF&client_secret=JGRJYABMNMV2LRIR3YOVVALEE2UBS5PBXEOIMMBWIT5HWLTU&ll=41.9078018,-87.6781551&v=20180604&radius=500&limit=100\n"
     ]
    }
   ],
   "source": [
    "radius = 500\n",
    "LIMIT = 100\n",
    "\n",
    "c_url = 'https://api.foursquare.com/v2/venues/explore?client_id={}&client_secret={}&ll={},{}&v={}&radius={}&limit={}'.format(\n",
    "        CLIENT_ID,\n",
    "        CLIENT_SECRET,\n",
    "        c_latitude,\n",
    "        c_longitude,\n",
    "        VERSION,\n",
    "        radius,\n",
    "        LIMIT\n",
    "        )\n",
    "\n",
    "print(c_url)"
   ]
  },
  {
   "cell_type": "code",
   "execution_count": 6,
   "metadata": {},
   "outputs": [],
   "source": [
    "results = requests.get(c_url).json()"
   ]
  },
  {
   "cell_type": "code",
   "execution_count": 7,
   "metadata": {},
   "outputs": [],
   "source": [
    "# Retrieve category type from the json format\n",
    "def get_category_type(row):\n",
    "    try:\n",
    "        category_list = row['categories']\n",
    "    except:\n",
    "        category_list = row['venue.categories']\n",
    "    \n",
    "    if len(category_list) == 0:\n",
    "        return None\n",
    "    else:\n",
    "        return category_list[0]['name']"
   ]
  },
  {
   "cell_type": "code",
   "execution_count": 8,
   "metadata": {},
   "outputs": [],
   "source": [
    "venues = results['response']['groups'][0]['items']\n",
    "\n",
    "nearby_venues = json_normalize(venues) #flattens JSON\n",
    "\n",
    "filtered_columns = ['venue.name', 'venue.id', 'venue.categories', 'venue.location.lat', 'venue.location.lng']\n",
    "nearby_venues = nearby_venues.loc[:, filtered_columns]\n",
    "\n",
    "nearby_venues['venue.categories'] = nearby_venues.apply(get_category_type, axis = 1)"
   ]
  },
  {
   "cell_type": "code",
   "execution_count": 9,
   "metadata": {},
   "outputs": [
    {
     "data": {
      "text/html": [
       "<div>\n",
       "<style scoped>\n",
       "    .dataframe tbody tr th:only-of-type {\n",
       "        vertical-align: middle;\n",
       "    }\n",
       "\n",
       "    .dataframe tbody tr th {\n",
       "        vertical-align: top;\n",
       "    }\n",
       "\n",
       "    .dataframe thead th {\n",
       "        text-align: right;\n",
       "    }\n",
       "</style>\n",
       "<table border=\"1\" class=\"dataframe\">\n",
       "  <thead>\n",
       "    <tr style=\"text-align: right;\">\n",
       "      <th></th>\n",
       "      <th>venue.name</th>\n",
       "      <th>venue.id</th>\n",
       "      <th>venue.categories</th>\n",
       "      <th>venue.location.lat</th>\n",
       "      <th>venue.location.lng</th>\n",
       "    </tr>\n",
       "  </thead>\n",
       "  <tbody>\n",
       "    <tr>\n",
       "      <th>0</th>\n",
       "      <td>Dove's Luncheonette</td>\n",
       "      <td>541c39ff498ee385598bdfff</td>\n",
       "      <td>Diner</td>\n",
       "      <td>41.909524</td>\n",
       "      <td>-87.677447</td>\n",
       "    </tr>\n",
       "    <tr>\n",
       "      <th>1</th>\n",
       "      <td>Big Star</td>\n",
       "      <td>4adbf2bbf964a520242b21e3</td>\n",
       "      <td>Taco Place</td>\n",
       "      <td>41.909229</td>\n",
       "      <td>-87.677279</td>\n",
       "    </tr>\n",
       "    <tr>\n",
       "      <th>2</th>\n",
       "      <td>The Violet Hour</td>\n",
       "      <td>49ba99c9f964a5207e531fe3</td>\n",
       "      <td>Speakeasy</td>\n",
       "      <td>41.909048</td>\n",
       "      <td>-87.677631</td>\n",
       "    </tr>\n",
       "    <tr>\n",
       "      <th>3</th>\n",
       "      <td>Wicker Park</td>\n",
       "      <td>4ae49d01f964a520519c21e3</td>\n",
       "      <td>Park</td>\n",
       "      <td>41.907960</td>\n",
       "      <td>-87.677267</td>\n",
       "    </tr>\n",
       "    <tr>\n",
       "      <th>4</th>\n",
       "      <td>Stan's Donuts &amp; Coffee</td>\n",
       "      <td>52f2eebd498ea23d1a8d16d5</td>\n",
       "      <td>Donut Shop</td>\n",
       "      <td>41.909927</td>\n",
       "      <td>-87.677462</td>\n",
       "    </tr>\n",
       "    <tr>\n",
       "      <th>5</th>\n",
       "      <td>La Colombe Torrefaction</td>\n",
       "      <td>51d0683c498e3eb7325145da</td>\n",
       "      <td>Coffee Shop</td>\n",
       "      <td>41.909859</td>\n",
       "      <td>-87.677651</td>\n",
       "    </tr>\n",
       "    <tr>\n",
       "      <th>6</th>\n",
       "      <td>Myopic Books</td>\n",
       "      <td>4a294136f964a52075951fe3</td>\n",
       "      <td>Bookstore</td>\n",
       "      <td>41.909977</td>\n",
       "      <td>-87.676851</td>\n",
       "    </tr>\n",
       "    <tr>\n",
       "      <th>7</th>\n",
       "      <td>Taxim</td>\n",
       "      <td>4a345e4cf964a520249c1fe3</td>\n",
       "      <td>Greek Restaurant</td>\n",
       "      <td>41.909823</td>\n",
       "      <td>-87.676658</td>\n",
       "    </tr>\n",
       "    <tr>\n",
       "      <th>8</th>\n",
       "      <td>Bonci Pizzeria</td>\n",
       "      <td>5ada9afe41868621d2cce37b</td>\n",
       "      <td>Pizza Place</td>\n",
       "      <td>41.910194</td>\n",
       "      <td>-87.677409</td>\n",
       "    </tr>\n",
       "    <tr>\n",
       "      <th>9</th>\n",
       "      <td>Jeni's Splendid Ice Creams</td>\n",
       "      <td>54eb6f69498e75f95d61b00a</td>\n",
       "      <td>Ice Cream Shop</td>\n",
       "      <td>41.908827</td>\n",
       "      <td>-87.674944</td>\n",
       "    </tr>\n",
       "  </tbody>\n",
       "</table>\n",
       "</div>"
      ],
      "text/plain": [
       "                   venue.name                  venue.id  venue.categories  \\\n",
       "0         Dove's Luncheonette  541c39ff498ee385598bdfff             Diner   \n",
       "1                    Big Star  4adbf2bbf964a520242b21e3        Taco Place   \n",
       "2             The Violet Hour  49ba99c9f964a5207e531fe3         Speakeasy   \n",
       "3                 Wicker Park  4ae49d01f964a520519c21e3              Park   \n",
       "4      Stan's Donuts & Coffee  52f2eebd498ea23d1a8d16d5        Donut Shop   \n",
       "5     La Colombe Torrefaction  51d0683c498e3eb7325145da       Coffee Shop   \n",
       "6                Myopic Books  4a294136f964a52075951fe3         Bookstore   \n",
       "7                       Taxim  4a345e4cf964a520249c1fe3  Greek Restaurant   \n",
       "8              Bonci Pizzeria  5ada9afe41868621d2cce37b       Pizza Place   \n",
       "9  Jeni's Splendid Ice Creams  54eb6f69498e75f95d61b00a    Ice Cream Shop   \n",
       "\n",
       "   venue.location.lat  venue.location.lng  \n",
       "0           41.909524          -87.677447  \n",
       "1           41.909229          -87.677279  \n",
       "2           41.909048          -87.677631  \n",
       "3           41.907960          -87.677267  \n",
       "4           41.909927          -87.677462  \n",
       "5           41.909859          -87.677651  \n",
       "6           41.909977          -87.676851  \n",
       "7           41.909823          -87.676658  \n",
       "8           41.910194          -87.677409  \n",
       "9           41.908827          -87.674944  "
      ]
     },
     "execution_count": 9,
     "metadata": {},
     "output_type": "execute_result"
    }
   ],
   "source": [
    "nearby_venues.head(10)"
   ]
  },
  {
   "cell_type": "code",
   "execution_count": 10,
   "metadata": {},
   "outputs": [
    {
     "name": "stdout",
     "output_type": "stream",
     "text": [
      "<class 'pandas.core.frame.DataFrame'>\n",
      "RangeIndex: 100 entries, 0 to 99\n",
      "Data columns (total 5 columns):\n",
      "venue.name            100 non-null object\n",
      "venue.id              100 non-null object\n",
      "venue.categories      100 non-null object\n",
      "venue.location.lat    100 non-null float64\n",
      "venue.location.lng    100 non-null float64\n",
      "dtypes: float64(2), object(3)\n",
      "memory usage: 4.0+ KB\n"
     ]
    }
   ],
   "source": [
    "nearby_venues.info()"
   ]
  },
  {
   "cell_type": "markdown",
   "metadata": {},
   "source": [
    "100 venues came back in the results for Wicker Park area."
   ]
  },
  {
   "cell_type": "markdown",
   "metadata": {},
   "source": [
    "Just from looking at a few places on the list, we can see that there is quite a bit of variations. There is also a park near by which is a nice additional feature."
   ]
  },
  {
   "cell_type": "code",
   "execution_count": 11,
   "metadata": {},
   "outputs": [],
   "source": [
    "# Clean up column names\n",
    "nearby_venues.columns = [col.split('.')[-1] for col in nearby_venues.columns]"
   ]
  },
  {
   "cell_type": "code",
   "execution_count": 12,
   "metadata": {
    "scrolled": true
   },
   "outputs": [],
   "source": [
    "nearby_venues_map = nearby_venues[0:51]"
   ]
  },
  {
   "cell_type": "code",
   "execution_count": 99,
   "metadata": {},
   "outputs": [
    {
     "data": {
      "text/html": [
       "<div style=\"width:100%;\"><div style=\"position:relative;width:100%;height:0;padding-bottom:60%;\"><iframe src=\"data:text/html;charset=utf-8;base64,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\" style=\"position:absolute;width:100%;height:100%;left:0;top:0;border:none !important;\" allowfullscreen webkitallowfullscreen mozallowfullscreen></iframe></div></div>"
      ],
      "text/plain": [
       "<folium.folium.Map at 0x11ceb3080>"
      ]
     },
     "execution_count": 99,
     "metadata": {},
     "output_type": "execute_result"
    }
   ],
   "source": [
    "#Generate map centered around address\n",
    "wp_venues_map = folium.Map(location=[c_latitude, c_longitude], zoom_start=13)\n",
    "\n",
    "#red marker added for main location\n",
    "folium.features.CircleMarker(\n",
    "    [c_latitude,c_longitude],\n",
    "    radius=10,\n",
    "    color='red',\n",
    "    popup='Wicker Park',\n",
    "    fill=True,\n",
    "    fill_color= 'red',\n",
    "    fill_opacity = 0.6\n",
    ").add_to(wp_venues_map)\n",
    "\n",
    "#blue markers for search results\n",
    "for lat, lng, label in zip(nearby_venues_map.lat, nearby_venues_map.lng, nearby_venues_map.categories):\n",
    "    folium.features.CircleMarker(\n",
    "        [lat, lng],\n",
    "        radius = 5,\n",
    "        color='blue',\n",
    "        popup=label,\n",
    "        fill=True,\n",
    "        fill_color='blue',\n",
    "        fill_opacity=0.6\n",
    "    ).add_to(wp_venues_map)\n",
    "    \n",
    "wp_venues_map"
   ]
  },
  {
   "cell_type": "markdown",
   "metadata": {},
   "source": [
    "### Explore Wicker"
   ]
  },
  {
   "cell_type": "code",
   "execution_count": 12,
   "metadata": {},
   "outputs": [
    {
     "data": {
      "text/plain": [
       "name          100\n",
       "id            100\n",
       "categories    100\n",
       "lat           100\n",
       "lng           100\n",
       "dtype: int64"
      ]
     },
     "execution_count": 12,
     "metadata": {},
     "output_type": "execute_result"
    }
   ],
   "source": [
    "nearby_venues.count()"
   ]
  },
  {
   "cell_type": "markdown",
   "metadata": {},
   "source": [
    "There are 100 venues within a radius of 500 meters of the center of Wicker Park in Chicago."
   ]
  },
  {
   "cell_type": "code",
   "execution_count": 13,
   "metadata": {},
   "outputs": [
    {
     "data": {
      "text/plain": [
       "71"
      ]
     },
     "execution_count": 13,
     "metadata": {},
     "output_type": "execute_result"
    }
   ],
   "source": [
    "wp_unique = nearby_venues['categories'].unique()\n",
    "nearby_venues['categories'].nunique()"
   ]
  },
  {
   "cell_type": "markdown",
   "metadata": {},
   "source": [
    "There are 71 different types of venues around the area. That is pretty good!"
   ]
  },
  {
   "cell_type": "code",
   "execution_count": 14,
   "metadata": {},
   "outputs": [
    {
     "data": {
      "text/plain": [
       "categories\n",
       "Pizza Place          6\n",
       "Boutique             4\n",
       "Clothing Store       3\n",
       "Shoe Store           3\n",
       "Coffee Shop          3\n",
       "Bookstore            3\n",
       "Bar                  3\n",
       "Ramen Restaurant     2\n",
       "Lounge               2\n",
       "Accessories Store    2\n",
       "Name: name, dtype: int64"
      ]
     },
     "execution_count": 14,
     "metadata": {},
     "output_type": "execute_result"
    }
   ],
   "source": [
    "top_categories = nearby_venues.groupby('categories').count()['name'].sort_values(ascending=False).head(10)\n",
    "top_categories"
   ]
  },
  {
   "cell_type": "markdown",
   "metadata": {},
   "source": [
    "The category with the most venues around is a pizza place, followed by a few different types of clothing related stores."
   ]
  },
  {
   "cell_type": "markdown",
   "metadata": {},
   "source": [
    "### Wicker Park Price Group and Likes"
   ]
  },
  {
   "cell_type": "markdown",
   "metadata": {},
   "source": [
    "Let's take a look at 10 of the venues and its pricing group and likes to get a sense of the area."
   ]
  },
  {
   "cell_type": "code",
   "execution_count": 61,
   "metadata": {},
   "outputs": [],
   "source": [
    "def get_venue_info(dataframe_col):\n",
    "    venue_info = []\n",
    "    for venue_id in dataframe_col[0:10]:\n",
    "        v_url = 'https://api.foursquare.com/v2/venues/{}?client_id={}&client_secret={}&v={}'.format(venue_id, CLIENT_ID, CLIENT_SECRET, VERSION)\n",
    "        v_results = requests.get(v_url).json()\n",
    "        try:\n",
    "            venue_name = v_results['response']['venue']['name']\n",
    "        except:\n",
    "            venue_name = 'Not Available'\n",
    "        try:\n",
    "            venue_price = v_results['response']['venue']['price']\n",
    "        except:\n",
    "            venue_price = 'Not Available'\n",
    "        try:\n",
    "            venue_likes = v_results['response']['venue']['likes']['count']\n",
    "        except:\n",
    "            venue_likes = 'Not Available'\n",
    "        venue_info.append([venue_name, venue_price, venue_likes])\n",
    "    return venue_info"
   ]
  },
  {
   "cell_type": "code",
   "execution_count": 62,
   "metadata": {},
   "outputs": [
    {
     "name": "stdout",
     "output_type": "stream",
     "text": [
      "[[\"Dove's Luncheonette\", {'tier': 2, 'message': 'Moderate', 'currency': '$'}, 385], ['Big Star', {'tier': 2, 'message': 'Moderate', 'currency': '$'}, 1552], ['The Violet Hour', {'tier': 2, 'message': 'Moderate', 'currency': '$'}, 669], ['Wicker Park', 'Not Available', 210], [\"Stan's Donuts & Coffee\", {'tier': 2, 'message': 'Moderate', 'currency': '$'}, 566], ['La Colombe Torrefaction', {'tier': 1, 'message': 'Cheap', 'currency': '$'}, 176], ['Myopic Books', 'Not Available', 259], ['Taxim', {'tier': 3, 'message': 'Expensive', 'currency': '$'}, 87], ['Bonci Pizzeria', {'tier': 1, 'message': 'Cheap', 'currency': '$'}, 35], [\"Jeni's Splendid Ice Creams\", {'tier': 1, 'message': 'Cheap', 'currency': '$'}, 324]]\n"
     ]
    }
   ],
   "source": [
    "wicker_venue_info = get_venue_info(nearby_venues['id'])\n",
    "print(wicker_venue_info)"
   ]
  },
  {
   "cell_type": "code",
   "execution_count": 63,
   "metadata": {},
   "outputs": [],
   "source": [
    "# nearby_venues[nearby_venues['id'] == '541c39ff498ee385598bdfff']"
   ]
  },
  {
   "cell_type": "code",
   "execution_count": 64,
   "metadata": {},
   "outputs": [
    {
     "data": {
      "text/html": [
       "<div>\n",
       "<style scoped>\n",
       "    .dataframe tbody tr th:only-of-type {\n",
       "        vertical-align: middle;\n",
       "    }\n",
       "\n",
       "    .dataframe tbody tr th {\n",
       "        vertical-align: top;\n",
       "    }\n",
       "\n",
       "    .dataframe thead th {\n",
       "        text-align: right;\n",
       "    }\n",
       "</style>\n",
       "<table border=\"1\" class=\"dataframe\">\n",
       "  <thead>\n",
       "    <tr style=\"text-align: right;\">\n",
       "      <th></th>\n",
       "      <th>name</th>\n",
       "      <th>price_tier</th>\n",
       "      <th>likes</th>\n",
       "    </tr>\n",
       "  </thead>\n",
       "  <tbody>\n",
       "    <tr>\n",
       "      <th>0</th>\n",
       "      <td>Dove's Luncheonette</td>\n",
       "      <td>{'tier': 2, 'message': 'Moderate', 'currency':...</td>\n",
       "      <td>385</td>\n",
       "    </tr>\n",
       "    <tr>\n",
       "      <th>1</th>\n",
       "      <td>Big Star</td>\n",
       "      <td>{'tier': 2, 'message': 'Moderate', 'currency':...</td>\n",
       "      <td>1552</td>\n",
       "    </tr>\n",
       "    <tr>\n",
       "      <th>2</th>\n",
       "      <td>The Violet Hour</td>\n",
       "      <td>{'tier': 2, 'message': 'Moderate', 'currency':...</td>\n",
       "      <td>669</td>\n",
       "    </tr>\n",
       "    <tr>\n",
       "      <th>3</th>\n",
       "      <td>Wicker Park</td>\n",
       "      <td>Not Available</td>\n",
       "      <td>210</td>\n",
       "    </tr>\n",
       "    <tr>\n",
       "      <th>4</th>\n",
       "      <td>Stan's Donuts &amp; Coffee</td>\n",
       "      <td>{'tier': 2, 'message': 'Moderate', 'currency':...</td>\n",
       "      <td>566</td>\n",
       "    </tr>\n",
       "    <tr>\n",
       "      <th>5</th>\n",
       "      <td>La Colombe Torrefaction</td>\n",
       "      <td>{'tier': 1, 'message': 'Cheap', 'currency': '$'}</td>\n",
       "      <td>176</td>\n",
       "    </tr>\n",
       "    <tr>\n",
       "      <th>6</th>\n",
       "      <td>Myopic Books</td>\n",
       "      <td>Not Available</td>\n",
       "      <td>259</td>\n",
       "    </tr>\n",
       "    <tr>\n",
       "      <th>7</th>\n",
       "      <td>Taxim</td>\n",
       "      <td>{'tier': 3, 'message': 'Expensive', 'currency'...</td>\n",
       "      <td>87</td>\n",
       "    </tr>\n",
       "    <tr>\n",
       "      <th>8</th>\n",
       "      <td>Bonci Pizzeria</td>\n",
       "      <td>{'tier': 1, 'message': 'Cheap', 'currency': '$'}</td>\n",
       "      <td>35</td>\n",
       "    </tr>\n",
       "    <tr>\n",
       "      <th>9</th>\n",
       "      <td>Jeni's Splendid Ice Creams</td>\n",
       "      <td>{'tier': 1, 'message': 'Cheap', 'currency': '$'}</td>\n",
       "      <td>324</td>\n",
       "    </tr>\n",
       "  </tbody>\n",
       "</table>\n",
       "</div>"
      ],
      "text/plain": [
       "                         name  \\\n",
       "0         Dove's Luncheonette   \n",
       "1                    Big Star   \n",
       "2             The Violet Hour   \n",
       "3                 Wicker Park   \n",
       "4      Stan's Donuts & Coffee   \n",
       "5     La Colombe Torrefaction   \n",
       "6                Myopic Books   \n",
       "7                       Taxim   \n",
       "8              Bonci Pizzeria   \n",
       "9  Jeni's Splendid Ice Creams   \n",
       "\n",
       "                                          price_tier  likes  \n",
       "0  {'tier': 2, 'message': 'Moderate', 'currency':...    385  \n",
       "1  {'tier': 2, 'message': 'Moderate', 'currency':...   1552  \n",
       "2  {'tier': 2, 'message': 'Moderate', 'currency':...    669  \n",
       "3                                      Not Available    210  \n",
       "4  {'tier': 2, 'message': 'Moderate', 'currency':...    566  \n",
       "5   {'tier': 1, 'message': 'Cheap', 'currency': '$'}    176  \n",
       "6                                      Not Available    259  \n",
       "7  {'tier': 3, 'message': 'Expensive', 'currency'...     87  \n",
       "8   {'tier': 1, 'message': 'Cheap', 'currency': '$'}     35  \n",
       "9   {'tier': 1, 'message': 'Cheap', 'currency': '$'}    324  "
      ]
     },
     "execution_count": 64,
     "metadata": {},
     "output_type": "execute_result"
    }
   ],
   "source": [
    "wicker_df = pd.DataFrame(wicker_venue_info, columns=['name', 'price_tier', 'likes'])\n",
    "wicker_df"
   ]
  },
  {
   "cell_type": "code",
   "execution_count": 65,
   "metadata": {},
   "outputs": [],
   "source": [
    "def get_price_tier(df):\n",
    "    price_tier = df['price_tier']\n",
    "    \n",
    "    if len(price_tier) == 0:\n",
    "        return None\n",
    "    elif price_tier == 'Not Available':\n",
    "        return None\n",
    "    else:\n",
    "        return price_tier['message']"
   ]
  },
  {
   "cell_type": "code",
   "execution_count": 66,
   "metadata": {},
   "outputs": [],
   "source": [
    "wicker_df['price_tier'] = wicker_df.apply(get_price_tier, axis=1)"
   ]
  },
  {
   "cell_type": "code",
   "execution_count": 67,
   "metadata": {},
   "outputs": [
    {
     "data": {
      "text/html": [
       "<div>\n",
       "<style scoped>\n",
       "    .dataframe tbody tr th:only-of-type {\n",
       "        vertical-align: middle;\n",
       "    }\n",
       "\n",
       "    .dataframe tbody tr th {\n",
       "        vertical-align: top;\n",
       "    }\n",
       "\n",
       "    .dataframe thead th {\n",
       "        text-align: right;\n",
       "    }\n",
       "</style>\n",
       "<table border=\"1\" class=\"dataframe\">\n",
       "  <thead>\n",
       "    <tr style=\"text-align: right;\">\n",
       "      <th></th>\n",
       "      <th>name</th>\n",
       "      <th>price_tier</th>\n",
       "      <th>likes</th>\n",
       "    </tr>\n",
       "  </thead>\n",
       "  <tbody>\n",
       "    <tr>\n",
       "      <th>1</th>\n",
       "      <td>Big Star</td>\n",
       "      <td>Moderate</td>\n",
       "      <td>1552</td>\n",
       "    </tr>\n",
       "    <tr>\n",
       "      <th>2</th>\n",
       "      <td>The Violet Hour</td>\n",
       "      <td>Moderate</td>\n",
       "      <td>669</td>\n",
       "    </tr>\n",
       "    <tr>\n",
       "      <th>4</th>\n",
       "      <td>Stan's Donuts &amp; Coffee</td>\n",
       "      <td>Moderate</td>\n",
       "      <td>566</td>\n",
       "    </tr>\n",
       "    <tr>\n",
       "      <th>0</th>\n",
       "      <td>Dove's Luncheonette</td>\n",
       "      <td>Moderate</td>\n",
       "      <td>385</td>\n",
       "    </tr>\n",
       "    <tr>\n",
       "      <th>9</th>\n",
       "      <td>Jeni's Splendid Ice Creams</td>\n",
       "      <td>Cheap</td>\n",
       "      <td>324</td>\n",
       "    </tr>\n",
       "    <tr>\n",
       "      <th>6</th>\n",
       "      <td>Myopic Books</td>\n",
       "      <td>None</td>\n",
       "      <td>259</td>\n",
       "    </tr>\n",
       "    <tr>\n",
       "      <th>3</th>\n",
       "      <td>Wicker Park</td>\n",
       "      <td>None</td>\n",
       "      <td>210</td>\n",
       "    </tr>\n",
       "    <tr>\n",
       "      <th>5</th>\n",
       "      <td>La Colombe Torrefaction</td>\n",
       "      <td>Cheap</td>\n",
       "      <td>176</td>\n",
       "    </tr>\n",
       "    <tr>\n",
       "      <th>7</th>\n",
       "      <td>Taxim</td>\n",
       "      <td>Expensive</td>\n",
       "      <td>87</td>\n",
       "    </tr>\n",
       "    <tr>\n",
       "      <th>8</th>\n",
       "      <td>Bonci Pizzeria</td>\n",
       "      <td>Cheap</td>\n",
       "      <td>35</td>\n",
       "    </tr>\n",
       "  </tbody>\n",
       "</table>\n",
       "</div>"
      ],
      "text/plain": [
       "                         name price_tier  likes\n",
       "1                    Big Star   Moderate   1552\n",
       "2             The Violet Hour   Moderate    669\n",
       "4      Stan's Donuts & Coffee   Moderate    566\n",
       "0         Dove's Luncheonette   Moderate    385\n",
       "9  Jeni's Splendid Ice Creams      Cheap    324\n",
       "6                Myopic Books       None    259\n",
       "3                 Wicker Park       None    210\n",
       "5     La Colombe Torrefaction      Cheap    176\n",
       "7                       Taxim  Expensive     87\n",
       "8              Bonci Pizzeria      Cheap     35"
      ]
     },
     "execution_count": 67,
     "metadata": {},
     "output_type": "execute_result"
    }
   ],
   "source": [
    "wicker_df.sort_values('likes', ascending=False)"
   ]
  },
  {
   "cell_type": "markdown",
   "metadata": {},
   "source": [
    "From these 10 venues, it would seem the average price of a store around the Wicker Park area is in the moderate-cheap range. Out of the 10, only one venue is labeled as expensive. The amount of 'likes' for these places aren't too low suggesting they are not rated poorly either."
   ]
  },
  {
   "cell_type": "markdown",
   "metadata": {},
   "source": [
    "### Import Queen Anne in Seattle data from Foursquare API"
   ]
  },
  {
   "cell_type": "code",
   "execution_count": 26,
   "metadata": {},
   "outputs": [
    {
     "name": "stdout",
     "output_type": "stream",
     "text": [
      "Queen Anne coordinates:  47.6394805 -122.3607453\n"
     ]
    }
   ],
   "source": [
    "qa_address = 'Queen Anne, Seattle, WA'\n",
    "\n",
    "qa_geolocator = Nominatim(user_agent='foursquare_agent')\n",
    "qa_location = qa_geolocator.geocode(qa_address)\n",
    "qa_lat = qa_location.latitude\n",
    "qa_lng = qa_location.longitude\n",
    "\n",
    "print('Queen Anne coordinates: ', qa_lat, qa_lng)"
   ]
  },
  {
   "cell_type": "code",
   "execution_count": 27,
   "metadata": {},
   "outputs": [
    {
     "name": "stdout",
     "output_type": "stream",
     "text": [
      "https://api.foursquare.com/v2/venues/explore?client_id=VHZM10UIGEKH1UMU2RG0E13CGHNYPUFBVQ3QU2DHBO0VA2QF&client_secret=JGRJYABMNMV2LRIR3YOVVALEE2UBS5PBXEOIMMBWIT5HWLTU&ll=47.6394805,-122.3607453&v=20180604&radius=500&limit=100\n"
     ]
    }
   ],
   "source": [
    "qa_url = 'https://api.foursquare.com/v2/venues/explore?client_id={}&client_secret={}&ll={},{}&v={}&radius={}&limit={}'.format(\n",
    "        CLIENT_ID,\n",
    "        CLIENT_SECRET,\n",
    "        qa_lat,\n",
    "        qa_lng,\n",
    "        VERSION,\n",
    "        radius,\n",
    "        LIMIT\n",
    "        )\n",
    "\n",
    "print(qa_url)"
   ]
  },
  {
   "cell_type": "code",
   "execution_count": 28,
   "metadata": {},
   "outputs": [],
   "source": [
    "qa_results = requests.get(qa_url).json()"
   ]
  },
  {
   "cell_type": "code",
   "execution_count": 30,
   "metadata": {},
   "outputs": [],
   "source": [
    "qa_venues = qa_results['response']['groups'][0]['items']\n",
    "\n",
    "qa_nearby_venues = json_normalize(qa_venues)\n",
    "\n",
    "qa_nearby_venues = qa_nearby_venues.loc[:, filtered_columns]"
   ]
  },
  {
   "cell_type": "code",
   "execution_count": 94,
   "metadata": {
    "scrolled": true
   },
   "outputs": [
    {
     "data": {
      "text/html": [
       "<div>\n",
       "<style scoped>\n",
       "    .dataframe tbody tr th:only-of-type {\n",
       "        vertical-align: middle;\n",
       "    }\n",
       "\n",
       "    .dataframe tbody tr th {\n",
       "        vertical-align: top;\n",
       "    }\n",
       "\n",
       "    .dataframe thead th {\n",
       "        text-align: right;\n",
       "    }\n",
       "</style>\n",
       "<table border=\"1\" class=\"dataframe\">\n",
       "  <thead>\n",
       "    <tr style=\"text-align: right;\">\n",
       "      <th></th>\n",
       "      <th>name</th>\n",
       "      <th>id</th>\n",
       "      <th>categories</th>\n",
       "      <th>lat</th>\n",
       "      <th>lng</th>\n",
       "    </tr>\n",
       "  </thead>\n",
       "  <tbody>\n",
       "    <tr>\n",
       "      <th>0</th>\n",
       "      <td>Blue Highway Games</td>\n",
       "      <td>4b107d07f964a5208e7123e3</td>\n",
       "      <td>Toy / Game Store</td>\n",
       "      <td>47.638564</td>\n",
       "      <td>-122.357133</td>\n",
       "    </tr>\n",
       "    <tr>\n",
       "      <th>1</th>\n",
       "      <td>Eden Hill</td>\n",
       "      <td>55fb84ad498ef87ed7839f63</td>\n",
       "      <td>Restaurant</td>\n",
       "      <td>47.638698</td>\n",
       "      <td>-122.357034</td>\n",
       "    </tr>\n",
       "    <tr>\n",
       "      <th>2</th>\n",
       "      <td>How To Cook A Wolf</td>\n",
       "      <td>49e82bc3f964a5204a651fe3</td>\n",
       "      <td>Italian Restaurant</td>\n",
       "      <td>47.638649</td>\n",
       "      <td>-122.356932</td>\n",
       "    </tr>\n",
       "    <tr>\n",
       "      <th>3</th>\n",
       "      <td>Haute Yoga</td>\n",
       "      <td>4a8e262df964a5201d1220e3</td>\n",
       "      <td>Yoga Studio</td>\n",
       "      <td>47.638106</td>\n",
       "      <td>-122.357024</td>\n",
       "    </tr>\n",
       "    <tr>\n",
       "      <th>4</th>\n",
       "      <td>Queen Anne Farmers Market</td>\n",
       "      <td>4bf5a9164d5f20a1a5dd97fe</td>\n",
       "      <td>Farmers Market</td>\n",
       "      <td>47.637064</td>\n",
       "      <td>-122.357692</td>\n",
       "    </tr>\n",
       "    <tr>\n",
       "      <th>5</th>\n",
       "      <td>Mezcaleria Oaxaca</td>\n",
       "      <td>4e8a6bdfcc215b0368100cb8</td>\n",
       "      <td>Mexican Restaurant</td>\n",
       "      <td>47.637899</td>\n",
       "      <td>-122.357230</td>\n",
       "    </tr>\n",
       "    <tr>\n",
       "      <th>6</th>\n",
       "      <td>Homegrown</td>\n",
       "      <td>4ccf7165de0f6dcbc05d6463</td>\n",
       "      <td>Sandwich Place</td>\n",
       "      <td>47.638472</td>\n",
       "      <td>-122.357048</td>\n",
       "    </tr>\n",
       "    <tr>\n",
       "      <th>7</th>\n",
       "      <td>Caffe Ladro</td>\n",
       "      <td>4244a600f964a5206e201fe3</td>\n",
       "      <td>Café</td>\n",
       "      <td>47.638644</td>\n",
       "      <td>-122.357090</td>\n",
       "    </tr>\n",
       "    <tr>\n",
       "      <th>8</th>\n",
       "      <td>Damask Tattoo</td>\n",
       "      <td>4bd3782bcaff95218c06d5f0</td>\n",
       "      <td>Cosmetics Shop</td>\n",
       "      <td>47.638626</td>\n",
       "      <td>-122.356702</td>\n",
       "    </tr>\n",
       "    <tr>\n",
       "      <th>9</th>\n",
       "      <td>Bite Box</td>\n",
       "      <td>5839ff83d7b47337a00eb8ca</td>\n",
       "      <td>Bistro</td>\n",
       "      <td>47.639493</td>\n",
       "      <td>-122.361345</td>\n",
       "    </tr>\n",
       "  </tbody>\n",
       "</table>\n",
       "</div>"
      ],
      "text/plain": [
       "                        name                        id          categories  \\\n",
       "0         Blue Highway Games  4b107d07f964a5208e7123e3    Toy / Game Store   \n",
       "1                  Eden Hill  55fb84ad498ef87ed7839f63          Restaurant   \n",
       "2         How To Cook A Wolf  49e82bc3f964a5204a651fe3  Italian Restaurant   \n",
       "3                 Haute Yoga  4a8e262df964a5201d1220e3         Yoga Studio   \n",
       "4  Queen Anne Farmers Market  4bf5a9164d5f20a1a5dd97fe      Farmers Market   \n",
       "5          Mezcaleria Oaxaca  4e8a6bdfcc215b0368100cb8  Mexican Restaurant   \n",
       "6                  Homegrown  4ccf7165de0f6dcbc05d6463      Sandwich Place   \n",
       "7                Caffe Ladro  4244a600f964a5206e201fe3                Café   \n",
       "8              Damask Tattoo  4bd3782bcaff95218c06d5f0      Cosmetics Shop   \n",
       "9                   Bite Box  5839ff83d7b47337a00eb8ca              Bistro   \n",
       "\n",
       "         lat         lng  \n",
       "0  47.638564 -122.357133  \n",
       "1  47.638698 -122.357034  \n",
       "2  47.638649 -122.356932  \n",
       "3  47.638106 -122.357024  \n",
       "4  47.637064 -122.357692  \n",
       "5  47.637899 -122.357230  \n",
       "6  47.638472 -122.357048  \n",
       "7  47.638644 -122.357090  \n",
       "8  47.638626 -122.356702  \n",
       "9  47.639493 -122.361345  "
      ]
     },
     "execution_count": 94,
     "metadata": {},
     "output_type": "execute_result"
    }
   ],
   "source": [
    "qa_nearby_venues['venue.categories'] = qa_nearby_venues.apply(get_category_type, axis=1)\n",
    "qa_nearby_venues.columns = [col.split('.')[-1] for col in qa_nearby_venues.columns]\n",
    "\n",
    "qa_nearby_venues.head(10)"
   ]
  },
  {
   "cell_type": "code",
   "execution_count": 95,
   "metadata": {},
   "outputs": [
    {
     "name": "stdout",
     "output_type": "stream",
     "text": [
      "<class 'pandas.core.frame.DataFrame'>\n",
      "RangeIndex: 50 entries, 0 to 49\n",
      "Data columns (total 5 columns):\n",
      "name          50 non-null object\n",
      "id            50 non-null object\n",
      "categories    50 non-null object\n",
      "lat           50 non-null float64\n",
      "lng           50 non-null float64\n",
      "dtypes: float64(2), object(3)\n",
      "memory usage: 2.0+ KB\n"
     ]
    }
   ],
   "source": [
    "qa_nearby_venues.info()"
   ]
  },
  {
   "cell_type": "markdown",
   "metadata": {},
   "source": [
    "50 venues around the area of Queen Anne."
   ]
  },
  {
   "cell_type": "code",
   "execution_count": 81,
   "metadata": {},
   "outputs": [
    {
     "data": {
      "text/html": [
       "<div style=\"width:100%;\"><div style=\"position:relative;width:100%;height:0;padding-bottom:60%;\"><iframe src=\"data:text/html;charset=utf-8;base64,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\" style=\"position:absolute;width:100%;height:100%;left:0;top:0;border:none !important;\" allowfullscreen webkitallowfullscreen mozallowfullscreen></iframe></div></div>"
      ],
      "text/plain": [
       "<folium.folium.Map at 0x11c3447b8>"
      ]
     },
     "execution_count": 81,
     "metadata": {},
     "output_type": "execute_result"
    }
   ],
   "source": [
    "#Generate map centered around address\n",
    "qa_venues_map = folium.Map(location=[qa_lat, qa_lng], zoom_start=13)\n",
    "\n",
    "#red marker added for main location\n",
    "folium.features.CircleMarker(\n",
    "    [qa_lat,qa_lng],\n",
    "    radius=10,\n",
    "    color='red',\n",
    "    popup='Queen Anne',\n",
    "    fill=True,\n",
    "    fill_color= 'red',\n",
    "    fill_opacity = 0.6\n",
    ").add_to(qa_venues_map)\n",
    "\n",
    "#blue markers for search results\n",
    "for lat, lng, label in zip(qa_nearby_venues.lat, qa_nearby_venues.lng, qa_nearby_venues.categories):\n",
    "    folium.features.CircleMarker(\n",
    "        [lat, lng],\n",
    "        radius = 5,\n",
    "        color='blue',\n",
    "        popup=label,\n",
    "        fill=True,\n",
    "        fill_color='blue',\n",
    "        fill_opacity=0.6\n",
    "    ).add_to(qa_venues_map)\n",
    "    \n",
    "qa_venues_map"
   ]
  },
  {
   "cell_type": "markdown",
   "metadata": {},
   "source": [
    "### Explore Queen Anne"
   ]
  },
  {
   "cell_type": "code",
   "execution_count": 32,
   "metadata": {},
   "outputs": [
    {
     "data": {
      "text/plain": [
       "39"
      ]
     },
     "execution_count": 32,
     "metadata": {},
     "output_type": "execute_result"
    }
   ],
   "source": [
    "qa_unique = qa_nearby_venues['categories'].unique()\n",
    "qa_nearby_venues['categories'].nunique()"
   ]
  },
  {
   "cell_type": "markdown",
   "metadata": {},
   "source": [
    "Queen Anne has 39 different types of venue."
   ]
  },
  {
   "cell_type": "code",
   "execution_count": 33,
   "metadata": {},
   "outputs": [
    {
     "name": "stdout",
     "output_type": "stream",
     "text": [
      "Queen Anne and Wicker Parker have:  \n",
      " ['Farmers Market', 'Mexican Restaurant', 'Cosmetics Shop', 'Bakery', 'Frozen Yogurt Shop', 'Coffee Shop', 'Wine Shop', 'Dive Bar', 'Gym / Fitness Center', 'Pizza Place', 'Gourmet Shop', 'Pharmacy', 'Mediterranean Restaurant', 'Spa', 'Playground', 'Art Gallery']\n",
      "\n",
      "\n",
      "Queen Anne have:  \n",
      " ['Toy / Game Store', 'Restaurant', 'Italian Restaurant', 'Yoga Studio', 'Sandwich Place', 'Café', 'Bistro', 'Nail Salon', 'Grocery Store', 'Market', 'Smoothie Shop', 'Thai Restaurant', 'Pet Store', 'American Restaurant', 'Music Venue', 'Paper / Office Supplies Store', 'Pub', 'Cupcake Shop', 'Baseball Field', 'Seafood Restaurant', 'Bus Stop', 'Kids Store', 'Jewelry Store']\n",
      "\n",
      "\n",
      "Wicker Park have:  \n",
      " ['Diner', 'Taco Place', 'Speakeasy', 'Park', 'Donut Shop', 'Bookstore', 'Greek Restaurant', 'Ice Cream Shop', 'Accessories Store', 'Boutique', 'French Restaurant', 'Video Game Store', 'Vegetarian / Vegan Restaurant', 'Bike Shop', 'Bar', 'Breakfast Spot', 'Sporting Goods Shop', 'Beer Bar', 'Butcher', 'Ramen Restaurant', 'Falafel Restaurant', 'Lounge', 'Korean Restaurant', 'Shoe Store', 'Flower Shop', 'Gym', 'Sushi Restaurant', 'Thrift / Vintage Store', 'Outdoors & Recreation', 'Clothing Store', 'Dessert Shop', 'Rock Club', 'Leather Goods Store', 'Hotel', 'Middle Eastern Restaurant', 'Tea Room', 'Salon / Barbershop', 'Argentinian Restaurant', 'Burger Joint', 'Hostel', 'New American Restaurant', 'Nightclub', 'BBQ Joint', 'Pet Service', 'Electronics Store', 'Indian Restaurant', 'Cajun / Creole Restaurant', 'Cocktail Bar', 'Bagel Shop', 'Convenience Store', 'Shipping Store', 'Fast Food Restaurant', 'Food Truck', \"Women's Store\", 'Furniture / Home Store']\n"
     ]
    }
   ],
   "source": [
    "qa_wp_same = []\n",
    "qa_has = []\n",
    "for x in qa_unique:\n",
    "    if x in wp_unique:\n",
    "        qa_wp_same.append(x)\n",
    "    else:\n",
    "        qa_has.append(x)\n",
    "print('Queen Anne and Wicker Parker have: ', '\\n', qa_wp_same)\n",
    "print('\\n')\n",
    "print('Queen Anne have: ', '\\n', qa_has)\n",
    "\n",
    "wp_has = []\n",
    "for x in wp_unique:\n",
    "    if x in qa_unique:\n",
    "        continue\n",
    "    else:\n",
    "        wp_has.append(x)\n",
    "print('\\n')\n",
    "print('Wicker Park have: ', '\\n', wp_has)"
   ]
  },
  {
   "cell_type": "markdown",
   "metadata": {},
   "source": [
    "Above we can see that there are a lot more different types of venues in the Wicker Park area compared to Queen Anne. Although some are the same types of venue except with different names (e.g. Nail Salon and Salon/Barbershop), there are a lot that are simply different. This suggests there are more variety in Wicker Park compared to Queen Anne."
   ]
  },
  {
   "cell_type": "code",
   "execution_count": 34,
   "metadata": {},
   "outputs": [
    {
     "data": {
      "text/plain": [
       "categories\n",
       "Pizza Place           3\n",
       "Bus Stop              2\n",
       "Grocery Store         2\n",
       "Mexican Restaurant    2\n",
       "Coffee Shop           2\n",
       "Playground            2\n",
       "Restaurant            2\n",
       "Yoga Studio           2\n",
       "Bakery                2\n",
       "Thai Restaurant       2\n",
       "Name: name, dtype: int64"
      ]
     },
     "execution_count": 34,
     "metadata": {},
     "output_type": "execute_result"
    }
   ],
   "source": [
    "qa_nearby_venues.groupby('categories').count()['name'].sort_values(ascending=False).head(10)"
   ]
  },
  {
   "cell_type": "markdown",
   "metadata": {},
   "source": [
    "The categories of venues are listed above from most frequent to list. Here we list the top 10."
   ]
  },
  {
   "cell_type": "markdown",
   "metadata": {},
   "source": [
    "### Queen Anne Price Group and Likes"
   ]
  },
  {
   "cell_type": "markdown",
   "metadata": {},
   "source": [
    "Again, we will check out the price group and likes of 10 venues near Queen Anne."
   ]
  },
  {
   "cell_type": "code",
   "execution_count": 68,
   "metadata": {},
   "outputs": [],
   "source": [
    "qa_venue_info = get_venue_info(qa_nearby_venues['id'])"
   ]
  },
  {
   "cell_type": "code",
   "execution_count": 69,
   "metadata": {},
   "outputs": [
    {
     "data": {
      "text/plain": [
       "[['Blue Highway Games', 'Not Available', 36],\n",
       " ['Eden Hill', {'tier': 2, 'message': 'Moderate', 'currency': '$'}, 29],\n",
       " ['How To Cook A Wolf',\n",
       "  {'tier': 2, 'message': 'Moderate', 'currency': '$'},\n",
       "  138],\n",
       " ['Haute Yoga', 'Not Available', 15],\n",
       " ['Queen Anne Farmers Market', 'Not Available', 39],\n",
       " ['Mezcaleria Oaxaca',\n",
       "  {'tier': 2, 'message': 'Moderate', 'currency': '$'},\n",
       "  86],\n",
       " ['Homegrown', {'tier': 2, 'message': 'Moderate', 'currency': '$'}, 70],\n",
       " ['Caffe Ladro', {'tier': 2, 'message': 'Moderate', 'currency': '$'}, 41],\n",
       " ['Damask Tattoo', 'Not Available', 12],\n",
       " ['Bite Box', 'Not Available', 7]]"
      ]
     },
     "execution_count": 69,
     "metadata": {},
     "output_type": "execute_result"
    }
   ],
   "source": [
    "qa_venue_info"
   ]
  },
  {
   "cell_type": "code",
   "execution_count": 70,
   "metadata": {},
   "outputs": [
    {
     "data": {
      "text/html": [
       "<div>\n",
       "<style scoped>\n",
       "    .dataframe tbody tr th:only-of-type {\n",
       "        vertical-align: middle;\n",
       "    }\n",
       "\n",
       "    .dataframe tbody tr th {\n",
       "        vertical-align: top;\n",
       "    }\n",
       "\n",
       "    .dataframe thead th {\n",
       "        text-align: right;\n",
       "    }\n",
       "</style>\n",
       "<table border=\"1\" class=\"dataframe\">\n",
       "  <thead>\n",
       "    <tr style=\"text-align: right;\">\n",
       "      <th></th>\n",
       "      <th>name</th>\n",
       "      <th>price_tier</th>\n",
       "      <th>likes</th>\n",
       "    </tr>\n",
       "  </thead>\n",
       "  <tbody>\n",
       "    <tr>\n",
       "      <th>0</th>\n",
       "      <td>Blue Highway Games</td>\n",
       "      <td>Not Available</td>\n",
       "      <td>36</td>\n",
       "    </tr>\n",
       "    <tr>\n",
       "      <th>1</th>\n",
       "      <td>Eden Hill</td>\n",
       "      <td>{'tier': 2, 'message': 'Moderate', 'currency':...</td>\n",
       "      <td>29</td>\n",
       "    </tr>\n",
       "    <tr>\n",
       "      <th>2</th>\n",
       "      <td>How To Cook A Wolf</td>\n",
       "      <td>{'tier': 2, 'message': 'Moderate', 'currency':...</td>\n",
       "      <td>138</td>\n",
       "    </tr>\n",
       "    <tr>\n",
       "      <th>3</th>\n",
       "      <td>Haute Yoga</td>\n",
       "      <td>Not Available</td>\n",
       "      <td>15</td>\n",
       "    </tr>\n",
       "    <tr>\n",
       "      <th>4</th>\n",
       "      <td>Queen Anne Farmers Market</td>\n",
       "      <td>Not Available</td>\n",
       "      <td>39</td>\n",
       "    </tr>\n",
       "    <tr>\n",
       "      <th>5</th>\n",
       "      <td>Mezcaleria Oaxaca</td>\n",
       "      <td>{'tier': 2, 'message': 'Moderate', 'currency':...</td>\n",
       "      <td>86</td>\n",
       "    </tr>\n",
       "    <tr>\n",
       "      <th>6</th>\n",
       "      <td>Homegrown</td>\n",
       "      <td>{'tier': 2, 'message': 'Moderate', 'currency':...</td>\n",
       "      <td>70</td>\n",
       "    </tr>\n",
       "    <tr>\n",
       "      <th>7</th>\n",
       "      <td>Caffe Ladro</td>\n",
       "      <td>{'tier': 2, 'message': 'Moderate', 'currency':...</td>\n",
       "      <td>41</td>\n",
       "    </tr>\n",
       "    <tr>\n",
       "      <th>8</th>\n",
       "      <td>Damask Tattoo</td>\n",
       "      <td>Not Available</td>\n",
       "      <td>12</td>\n",
       "    </tr>\n",
       "    <tr>\n",
       "      <th>9</th>\n",
       "      <td>Bite Box</td>\n",
       "      <td>Not Available</td>\n",
       "      <td>7</td>\n",
       "    </tr>\n",
       "  </tbody>\n",
       "</table>\n",
       "</div>"
      ],
      "text/plain": [
       "                        name  \\\n",
       "0         Blue Highway Games   \n",
       "1                  Eden Hill   \n",
       "2         How To Cook A Wolf   \n",
       "3                 Haute Yoga   \n",
       "4  Queen Anne Farmers Market   \n",
       "5          Mezcaleria Oaxaca   \n",
       "6                  Homegrown   \n",
       "7                Caffe Ladro   \n",
       "8              Damask Tattoo   \n",
       "9                   Bite Box   \n",
       "\n",
       "                                          price_tier  likes  \n",
       "0                                      Not Available     36  \n",
       "1  {'tier': 2, 'message': 'Moderate', 'currency':...     29  \n",
       "2  {'tier': 2, 'message': 'Moderate', 'currency':...    138  \n",
       "3                                      Not Available     15  \n",
       "4                                      Not Available     39  \n",
       "5  {'tier': 2, 'message': 'Moderate', 'currency':...     86  \n",
       "6  {'tier': 2, 'message': 'Moderate', 'currency':...     70  \n",
       "7  {'tier': 2, 'message': 'Moderate', 'currency':...     41  \n",
       "8                                      Not Available     12  \n",
       "9                                      Not Available      7  "
      ]
     },
     "execution_count": 70,
     "metadata": {},
     "output_type": "execute_result"
    }
   ],
   "source": [
    "qa_df = pd.DataFrame(qa_venue_info, columns=['name', 'price_tier', 'likes'])\n",
    "qa_df    "
   ]
  },
  {
   "cell_type": "code",
   "execution_count": 71,
   "metadata": {},
   "outputs": [
    {
     "data": {
      "text/html": [
       "<div>\n",
       "<style scoped>\n",
       "    .dataframe tbody tr th:only-of-type {\n",
       "        vertical-align: middle;\n",
       "    }\n",
       "\n",
       "    .dataframe tbody tr th {\n",
       "        vertical-align: top;\n",
       "    }\n",
       "\n",
       "    .dataframe thead th {\n",
       "        text-align: right;\n",
       "    }\n",
       "</style>\n",
       "<table border=\"1\" class=\"dataframe\">\n",
       "  <thead>\n",
       "    <tr style=\"text-align: right;\">\n",
       "      <th></th>\n",
       "      <th>name</th>\n",
       "      <th>price_tier</th>\n",
       "      <th>likes</th>\n",
       "    </tr>\n",
       "  </thead>\n",
       "  <tbody>\n",
       "    <tr>\n",
       "      <th>2</th>\n",
       "      <td>How To Cook A Wolf</td>\n",
       "      <td>Moderate</td>\n",
       "      <td>138</td>\n",
       "    </tr>\n",
       "    <tr>\n",
       "      <th>5</th>\n",
       "      <td>Mezcaleria Oaxaca</td>\n",
       "      <td>Moderate</td>\n",
       "      <td>86</td>\n",
       "    </tr>\n",
       "    <tr>\n",
       "      <th>6</th>\n",
       "      <td>Homegrown</td>\n",
       "      <td>Moderate</td>\n",
       "      <td>70</td>\n",
       "    </tr>\n",
       "    <tr>\n",
       "      <th>7</th>\n",
       "      <td>Caffe Ladro</td>\n",
       "      <td>Moderate</td>\n",
       "      <td>41</td>\n",
       "    </tr>\n",
       "    <tr>\n",
       "      <th>4</th>\n",
       "      <td>Queen Anne Farmers Market</td>\n",
       "      <td>None</td>\n",
       "      <td>39</td>\n",
       "    </tr>\n",
       "    <tr>\n",
       "      <th>0</th>\n",
       "      <td>Blue Highway Games</td>\n",
       "      <td>None</td>\n",
       "      <td>36</td>\n",
       "    </tr>\n",
       "    <tr>\n",
       "      <th>1</th>\n",
       "      <td>Eden Hill</td>\n",
       "      <td>Moderate</td>\n",
       "      <td>29</td>\n",
       "    </tr>\n",
       "    <tr>\n",
       "      <th>3</th>\n",
       "      <td>Haute Yoga</td>\n",
       "      <td>None</td>\n",
       "      <td>15</td>\n",
       "    </tr>\n",
       "    <tr>\n",
       "      <th>8</th>\n",
       "      <td>Damask Tattoo</td>\n",
       "      <td>None</td>\n",
       "      <td>12</td>\n",
       "    </tr>\n",
       "    <tr>\n",
       "      <th>9</th>\n",
       "      <td>Bite Box</td>\n",
       "      <td>None</td>\n",
       "      <td>7</td>\n",
       "    </tr>\n",
       "  </tbody>\n",
       "</table>\n",
       "</div>"
      ],
      "text/plain": [
       "                        name price_tier  likes\n",
       "2         How To Cook A Wolf   Moderate    138\n",
       "5          Mezcaleria Oaxaca   Moderate     86\n",
       "6                  Homegrown   Moderate     70\n",
       "7                Caffe Ladro   Moderate     41\n",
       "4  Queen Anne Farmers Market       None     39\n",
       "0         Blue Highway Games       None     36\n",
       "1                  Eden Hill   Moderate     29\n",
       "3                 Haute Yoga       None     15\n",
       "8              Damask Tattoo       None     12\n",
       "9                   Bite Box       None      7"
      ]
     },
     "execution_count": 71,
     "metadata": {},
     "output_type": "execute_result"
    }
   ],
   "source": [
    "qa_df['price_tier'] = qa_df.apply(get_price_tier, axis=1)\n",
    "qa_df.sort_values('likes', ascending=False)"
   ]
  },
  {
   "cell_type": "markdown",
   "metadata": {},
   "source": [
    "Queen Anne doesn't seem to have as many likes at their venues compared to Wicker Park. Also, there are a lot more activity venues that do not have a labeled price tier since they are not restaurants."
   ]
  },
  {
   "cell_type": "markdown",
   "metadata": {},
   "source": [
    "### Import Capitol Hill in Seattle Data From Foursquare API"
   ]
  },
  {
   "cell_type": "code",
   "execution_count": 49,
   "metadata": {},
   "outputs": [
    {
     "name": "stdout",
     "output_type": "stream",
     "text": [
      "Capitol Hill coordinates :  47.6238307 -122.3183689\n"
     ]
    }
   ],
   "source": [
    "address = 'Capitol Hill, Seattle, WA'\n",
    "\n",
    "ch_geolocator = Nominatim(user_agent='foursquare_agent')\n",
    "ch_location = ch_geolocator.geocode(address)\n",
    "ch_lat = ch_location.latitude\n",
    "ch_lng = ch_location.longitude\n",
    "\n",
    "print('Capitol Hill coordinates : ', ch_lat, ch_lng)"
   ]
  },
  {
   "cell_type": "code",
   "execution_count": 50,
   "metadata": {},
   "outputs": [
    {
     "name": "stdout",
     "output_type": "stream",
     "text": [
      "https://api.foursquare.com/v2/venues/explore?client_id=VHZM10UIGEKH1UMU2RG0E13CGHNYPUFBVQ3QU2DHBO0VA2QF&client_secret=JGRJYABMNMV2LRIR3YOVVALEE2UBS5PBXEOIMMBWIT5HWLTU&ll=47.6238307,-122.3183689&v=20180604&radius=500&limit=100\n"
     ]
    }
   ],
   "source": [
    "ch_url = 'https://api.foursquare.com/v2/venues/explore?client_id={}&client_secret={}&ll={},{}&v={}&radius={}&limit={}'.format(\n",
    "        CLIENT_ID,\n",
    "        CLIENT_SECRET,\n",
    "        ch_lat,\n",
    "        ch_lng,\n",
    "        VERSION,\n",
    "        radius,\n",
    "        LIMIT\n",
    "        )\n",
    "\n",
    "print(ch_url)"
   ]
  },
  {
   "cell_type": "code",
   "execution_count": 51,
   "metadata": {},
   "outputs": [],
   "source": [
    "ch_results = requests.get(ch_url).json()"
   ]
  },
  {
   "cell_type": "code",
   "execution_count": 52,
   "metadata": {},
   "outputs": [
    {
     "data": {
      "text/html": [
       "<div>\n",
       "<style scoped>\n",
       "    .dataframe tbody tr th:only-of-type {\n",
       "        vertical-align: middle;\n",
       "    }\n",
       "\n",
       "    .dataframe tbody tr th {\n",
       "        vertical-align: top;\n",
       "    }\n",
       "\n",
       "    .dataframe thead th {\n",
       "        text-align: right;\n",
       "    }\n",
       "</style>\n",
       "<table border=\"1\" class=\"dataframe\">\n",
       "  <thead>\n",
       "    <tr style=\"text-align: right;\">\n",
       "      <th></th>\n",
       "      <th>venue.name</th>\n",
       "      <th>venue.id</th>\n",
       "      <th>venue.categories</th>\n",
       "      <th>venue.location.lat</th>\n",
       "      <th>venue.location.lng</th>\n",
       "    </tr>\n",
       "  </thead>\n",
       "  <tbody>\n",
       "    <tr>\n",
       "      <th>0</th>\n",
       "      <td>Espresso Vivace</td>\n",
       "      <td>48e4b935f964a52026521fe3</td>\n",
       "      <td>[{'id': '4bf58dd8d48988d1e0931735', 'name': 'C...</td>\n",
       "      <td>47.623667</td>\n",
       "      <td>-122.320692</td>\n",
       "    </tr>\n",
       "    <tr>\n",
       "      <th>1</th>\n",
       "      <td>CorePower Yoga</td>\n",
       "      <td>51b5d221498eead65cd90978</td>\n",
       "      <td>[{'id': '4bf58dd8d48988d102941735', 'name': 'Y...</td>\n",
       "      <td>47.623323</td>\n",
       "      <td>-122.321225</td>\n",
       "    </tr>\n",
       "    <tr>\n",
       "      <th>2</th>\n",
       "      <td>Corvus &amp; Co.</td>\n",
       "      <td>5747b464498efe1302c3e268</td>\n",
       "      <td>[{'id': '4bf58dd8d48988d11e941735', 'name': 'C...</td>\n",
       "      <td>47.624380</td>\n",
       "      <td>-122.321141</td>\n",
       "    </tr>\n",
       "    <tr>\n",
       "      <th>3</th>\n",
       "      <td>Altura</td>\n",
       "      <td>4e8bd0f7cc2112f67533b390</td>\n",
       "      <td>[{'id': '4bf58dd8d48988d110941735', 'name': 'I...</td>\n",
       "      <td>47.624763</td>\n",
       "      <td>-122.321103</td>\n",
       "    </tr>\n",
       "    <tr>\n",
       "      <th>4</th>\n",
       "      <td>Witness</td>\n",
       "      <td>52156bbd498eb27e8d0eb520</td>\n",
       "      <td>[{'id': '4bf58dd8d48988d11e941735', 'name': 'C...</td>\n",
       "      <td>47.622339</td>\n",
       "      <td>-122.320962</td>\n",
       "    </tr>\n",
       "  </tbody>\n",
       "</table>\n",
       "</div>"
      ],
      "text/plain": [
       "        venue.name                  venue.id  \\\n",
       "0  Espresso Vivace  48e4b935f964a52026521fe3   \n",
       "1   CorePower Yoga  51b5d221498eead65cd90978   \n",
       "2     Corvus & Co.  5747b464498efe1302c3e268   \n",
       "3           Altura  4e8bd0f7cc2112f67533b390   \n",
       "4          Witness  52156bbd498eb27e8d0eb520   \n",
       "\n",
       "                                    venue.categories  venue.location.lat  \\\n",
       "0  [{'id': '4bf58dd8d48988d1e0931735', 'name': 'C...           47.623667   \n",
       "1  [{'id': '4bf58dd8d48988d102941735', 'name': 'Y...           47.623323   \n",
       "2  [{'id': '4bf58dd8d48988d11e941735', 'name': 'C...           47.624380   \n",
       "3  [{'id': '4bf58dd8d48988d110941735', 'name': 'I...           47.624763   \n",
       "4  [{'id': '4bf58dd8d48988d11e941735', 'name': 'C...           47.622339   \n",
       "\n",
       "   venue.location.lng  \n",
       "0         -122.320692  \n",
       "1         -122.321225  \n",
       "2         -122.321141  \n",
       "3         -122.321103  \n",
       "4         -122.320962  "
      ]
     },
     "execution_count": 52,
     "metadata": {},
     "output_type": "execute_result"
    }
   ],
   "source": [
    "ch_venues = ch_results['response']['groups'][0]['items']\n",
    "\n",
    "ch_nearby_venues = json_normalize(ch_venues)\n",
    "\n",
    "ch_nearby_venues = ch_nearby_venues.loc[:,filtered_columns]\n",
    "\n",
    "ch_nearby_venues.head()"
   ]
  },
  {
   "cell_type": "code",
   "execution_count": 84,
   "metadata": {},
   "outputs": [
    {
     "data": {
      "text/html": [
       "<div>\n",
       "<style scoped>\n",
       "    .dataframe tbody tr th:only-of-type {\n",
       "        vertical-align: middle;\n",
       "    }\n",
       "\n",
       "    .dataframe tbody tr th {\n",
       "        vertical-align: top;\n",
       "    }\n",
       "\n",
       "    .dataframe thead th {\n",
       "        text-align: right;\n",
       "    }\n",
       "</style>\n",
       "<table border=\"1\" class=\"dataframe\">\n",
       "  <thead>\n",
       "    <tr style=\"text-align: right;\">\n",
       "      <th></th>\n",
       "      <th>name</th>\n",
       "      <th>id</th>\n",
       "      <th>categories</th>\n",
       "      <th>lat</th>\n",
       "      <th>lng</th>\n",
       "    </tr>\n",
       "  </thead>\n",
       "  <tbody>\n",
       "    <tr>\n",
       "      <th>0</th>\n",
       "      <td>Espresso Vivace</td>\n",
       "      <td>48e4b935f964a52026521fe3</td>\n",
       "      <td>Coffee Shop</td>\n",
       "      <td>47.623667</td>\n",
       "      <td>-122.320692</td>\n",
       "    </tr>\n",
       "    <tr>\n",
       "      <th>1</th>\n",
       "      <td>CorePower Yoga</td>\n",
       "      <td>51b5d221498eead65cd90978</td>\n",
       "      <td>Yoga Studio</td>\n",
       "      <td>47.623323</td>\n",
       "      <td>-122.321225</td>\n",
       "    </tr>\n",
       "    <tr>\n",
       "      <th>2</th>\n",
       "      <td>Corvus &amp; Co.</td>\n",
       "      <td>5747b464498efe1302c3e268</td>\n",
       "      <td>Cocktail Bar</td>\n",
       "      <td>47.624380</td>\n",
       "      <td>-122.321141</td>\n",
       "    </tr>\n",
       "    <tr>\n",
       "      <th>3</th>\n",
       "      <td>Altura</td>\n",
       "      <td>4e8bd0f7cc2112f67533b390</td>\n",
       "      <td>Italian Restaurant</td>\n",
       "      <td>47.624763</td>\n",
       "      <td>-122.321103</td>\n",
       "    </tr>\n",
       "    <tr>\n",
       "      <th>4</th>\n",
       "      <td>Witness</td>\n",
       "      <td>52156bbd498eb27e8d0eb520</td>\n",
       "      <td>Cocktail Bar</td>\n",
       "      <td>47.622339</td>\n",
       "      <td>-122.320962</td>\n",
       "    </tr>\n",
       "    <tr>\n",
       "      <th>5</th>\n",
       "      <td>Poppy</td>\n",
       "      <td>49e3eb68f964a520ec621fe3</td>\n",
       "      <td>Indian Restaurant</td>\n",
       "      <td>47.625015</td>\n",
       "      <td>-122.320749</td>\n",
       "    </tr>\n",
       "    <tr>\n",
       "      <th>6</th>\n",
       "      <td>Due' Cucina Italiana</td>\n",
       "      <td>58096b4238faf62190651af2</td>\n",
       "      <td>Italian Restaurant</td>\n",
       "      <td>47.622431</td>\n",
       "      <td>-122.320586</td>\n",
       "    </tr>\n",
       "    <tr>\n",
       "      <th>7</th>\n",
       "      <td>Boca Restobar &amp; Grill</td>\n",
       "      <td>5a87713c7564f77ddfc281c2</td>\n",
       "      <td>Argentinian Restaurant</td>\n",
       "      <td>47.622617</td>\n",
       "      <td>-122.320778</td>\n",
       "    </tr>\n",
       "    <tr>\n",
       "      <th>8</th>\n",
       "      <td>Lionhead</td>\n",
       "      <td>55ca95a7498e3dfea082b08e</td>\n",
       "      <td>Szechuan Restaurant</td>\n",
       "      <td>47.624881</td>\n",
       "      <td>-122.320824</td>\n",
       "    </tr>\n",
       "    <tr>\n",
       "      <th>9</th>\n",
       "      <td>Herb &amp; Bitter Public House</td>\n",
       "      <td>55751527498ef4e2722759e3</td>\n",
       "      <td>Cocktail Bar</td>\n",
       "      <td>47.623560</td>\n",
       "      <td>-122.320917</td>\n",
       "    </tr>\n",
       "  </tbody>\n",
       "</table>\n",
       "</div>"
      ],
      "text/plain": [
       "                         name                        id  \\\n",
       "0             Espresso Vivace  48e4b935f964a52026521fe3   \n",
       "1              CorePower Yoga  51b5d221498eead65cd90978   \n",
       "2                Corvus & Co.  5747b464498efe1302c3e268   \n",
       "3                      Altura  4e8bd0f7cc2112f67533b390   \n",
       "4                     Witness  52156bbd498eb27e8d0eb520   \n",
       "5                       Poppy  49e3eb68f964a520ec621fe3   \n",
       "6        Due' Cucina Italiana  58096b4238faf62190651af2   \n",
       "7       Boca Restobar & Grill  5a87713c7564f77ddfc281c2   \n",
       "8                    Lionhead  55ca95a7498e3dfea082b08e   \n",
       "9  Herb & Bitter Public House  55751527498ef4e2722759e3   \n",
       "\n",
       "               categories        lat         lng  \n",
       "0             Coffee Shop  47.623667 -122.320692  \n",
       "1             Yoga Studio  47.623323 -122.321225  \n",
       "2            Cocktail Bar  47.624380 -122.321141  \n",
       "3      Italian Restaurant  47.624763 -122.321103  \n",
       "4            Cocktail Bar  47.622339 -122.320962  \n",
       "5       Indian Restaurant  47.625015 -122.320749  \n",
       "6      Italian Restaurant  47.622431 -122.320586  \n",
       "7  Argentinian Restaurant  47.622617 -122.320778  \n",
       "8     Szechuan Restaurant  47.624881 -122.320824  \n",
       "9            Cocktail Bar  47.623560 -122.320917  "
      ]
     },
     "execution_count": 84,
     "metadata": {},
     "output_type": "execute_result"
    }
   ],
   "source": [
    "ch_nearby_venues['venue.categories'] = ch_nearby_venues.apply(get_category_type,axis = 1)\n",
    "ch_nearby_venues.columns = [col.split('.')[-1] for col in ch_nearby_venues.columns]\n",
    "ch_nearby_venues.head(10)"
   ]
  },
  {
   "cell_type": "code",
   "execution_count": 91,
   "metadata": {
    "scrolled": true
   },
   "outputs": [
    {
     "name": "stdout",
     "output_type": "stream",
     "text": [
      "<class 'pandas.core.frame.DataFrame'>\n",
      "RangeIndex: 62 entries, 0 to 61\n",
      "Data columns (total 5 columns):\n",
      "name          62 non-null object\n",
      "id            62 non-null object\n",
      "categories    62 non-null object\n",
      "lat           62 non-null float64\n",
      "lng           62 non-null float64\n",
      "dtypes: float64(2), object(3)\n",
      "memory usage: 2.5+ KB\n"
     ]
    }
   ],
   "source": [
    "ch_nearby_venues.info()"
   ]
  },
  {
   "cell_type": "markdown",
   "metadata": {},
   "source": [
    "62 venues for the area by Capitol Hill."
   ]
  },
  {
   "cell_type": "code",
   "execution_count": 119,
   "metadata": {},
   "outputs": [],
   "source": [
    "ch_nearby_venues_map = ch_nearby_venues[0:10]"
   ]
  },
  {
   "cell_type": "markdown",
   "metadata": {},
   "source": [
    "62 total venues came back for the Capitol Hill area."
   ]
  },
  {
   "cell_type": "code",
   "execution_count": 120,
   "metadata": {},
   "outputs": [
    {
     "data": {
      "text/html": [
       "<div style=\"width:100%;\"><div style=\"position:relative;width:100%;height:0;padding-bottom:60%;\"><iframe src=\"data:text/html;charset=utf-8;base64,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\" style=\"position:absolute;width:100%;height:100%;left:0;top:0;border:none !important;\" allowfullscreen webkitallowfullscreen mozallowfullscreen></iframe></div></div>"
      ],
      "text/plain": [
       "<folium.folium.Map at 0x11d4ce7f0>"
      ]
     },
     "execution_count": 120,
     "metadata": {},
     "output_type": "execute_result"
    }
   ],
   "source": [
    "#Generate map centered around address\n",
    "ch_venues_map = folium.Map(location=[ch_lat, ch_lng], zoom_start=13)\n",
    "\n",
    "#red marker added for main location\n",
    "folium.features.CircleMarker(\n",
    "    [ch_lat,ch_lng],\n",
    "    radius=10,\n",
    "    color='red',\n",
    "    popup='Capitol Hill',\n",
    "    fill=True,\n",
    "    fill_color= 'red',\n",
    "    fill_opacity = 0.6\n",
    ").add_to(ch_venues_map)\n",
    "\n",
    "#blue markers for search results\n",
    "for lat, lng, label in zip(ch_nearby_venues_map.lat, ch_nearby_venues_map.lng, ch_nearby_venues_map.categories):\n",
    "    folium.features.CircleMarker(\n",
    "        [lat, lng],\n",
    "        radius = 5,\n",
    "        color='blue',\n",
    "        popup=label,\n",
    "        fill=True,\n",
    "        fill_color='blue',\n",
    "        fill_opacity=0.6\n",
    "    ).add_to(ch_venues_map)\n",
    "    \n",
    "ch_venues_map"
   ]
  },
  {
   "cell_type": "markdown",
   "metadata": {},
   "source": [
    "### Explore Capitol Hill"
   ]
  },
  {
   "cell_type": "code",
   "execution_count": 54,
   "metadata": {},
   "outputs": [
    {
     "data": {
      "text/plain": [
       "44"
      ]
     },
     "execution_count": 54,
     "metadata": {},
     "output_type": "execute_result"
    }
   ],
   "source": [
    "ch_unique = ch_nearby_venues['categories'].unique()\n",
    "ch_nearby_venues['categories'].nunique()"
   ]
  },
  {
   "cell_type": "markdown",
   "metadata": {},
   "source": [
    "There are 44 unique types of venues around Capitol Hill."
   ]
  },
  {
   "cell_type": "code",
   "execution_count": 55,
   "metadata": {},
   "outputs": [
    {
     "name": "stdout",
     "output_type": "stream",
     "text": [
      "Capitol Hill and Wicker Parker have:  \n",
      " ['Coffee Shop', 'Cocktail Bar', 'Indian Restaurant', 'Argentinian Restaurant', 'Bar', 'Frozen Yogurt Shop', 'Gym / Fitness Center', 'Thrift / Vintage Store', 'Salon / Barbershop', 'Bookstore', 'Spa', 'Taco Place', 'Gym', 'Lounge', 'Bakery', 'Pharmacy', 'Mexican Restaurant', 'Furniture / Home Store', 'Korean Restaurant', 'Greek Restaurant', 'Clothing Store']\n",
      "\n",
      "\n",
      "Capitol Hill have:  \n",
      " ['Yoga Studio', 'Italian Restaurant', 'Szechuan Restaurant', \"Men's Store\", 'Noodle House', 'Massage Studio', 'Thai Restaurant', 'Record Shop', 'Restaurant', 'American Restaurant', 'Café', 'Seafood Restaurant', 'Pet Store', 'Southern / Soul Food Restaurant', 'Mobile Phone Shop', 'Pub', 'Marijuana Dispensary', 'Ethiopian Restaurant', 'Gift Shop', 'Japanese Restaurant', 'Locksmith', 'Bed & Breakfast', 'ATM']\n",
      "\n",
      "\n",
      "Wicker Park have:  \n",
      " ['Diner', 'Speakeasy', 'Park', 'Donut Shop', 'Pizza Place', 'Ice Cream Shop', 'Accessories Store', 'Farmers Market', 'Boutique', 'French Restaurant', 'Video Game Store', 'Vegetarian / Vegan Restaurant', 'Bike Shop', 'Breakfast Spot', 'Sporting Goods Shop', 'Beer Bar', 'Art Gallery', 'Butcher', 'Ramen Restaurant', 'Falafel Restaurant', 'Shoe Store', 'Flower Shop', 'Sushi Restaurant', 'Outdoors & Recreation', 'Dessert Shop', 'Rock Club', 'Playground', 'Leather Goods Store', 'Hotel', 'Middle Eastern Restaurant', 'Tea Room', 'Burger Joint', 'Gourmet Shop', 'Cosmetics Shop', 'Hostel', 'New American Restaurant', 'Nightclub', 'BBQ Joint', 'Wine Shop', 'Pet Service', 'Electronics Store', 'Cajun / Creole Restaurant', 'Mediterranean Restaurant', 'Bagel Shop', 'Convenience Store', 'Dive Bar', 'Shipping Store', 'Fast Food Restaurant', 'Food Truck', \"Women's Store\"]\n"
     ]
    }
   ],
   "source": [
    "ch_wp_same = []\n",
    "ch_has = []\n",
    "for x in ch_unique:\n",
    "    if x in wp_unique:\n",
    "        ch_wp_same.append(x)\n",
    "    else:\n",
    "        ch_has.append(x)\n",
    "print('Capitol Hill and Wicker Parker have: ', '\\n', ch_wp_same)\n",
    "print('\\n')\n",
    "print('Capitol Hill have: ', '\\n', ch_has)\n",
    "\n",
    "wp_has = []\n",
    "for x in wp_unique:\n",
    "    if x in ch_unique:\n",
    "        continue\n",
    "    else:\n",
    "        wp_has.append(x)\n",
    "print('\\n')\n",
    "print('Wicker Park have: ', '\\n', wp_has)"
   ]
  },
  {
   "cell_type": "markdown",
   "metadata": {},
   "source": [
    "Similar to the comparison between Wicker Park and Queen Anne, Capitol Hill has less variety of venues than Wicker Park. Some are the same type with different names (e.g. Pet Store and Pet Service), but Wicker Park still has more."
   ]
  },
  {
   "cell_type": "markdown",
   "metadata": {},
   "source": [
    "### Capitol Hill Price Group and Likes"
   ]
  },
  {
   "cell_type": "markdown",
   "metadata": {},
   "source": [
    "Let's have a look at the venue information of the places in Capitol Hill!"
   ]
  },
  {
   "cell_type": "code",
   "execution_count": 72,
   "metadata": {},
   "outputs": [],
   "source": [
    "ch_venue_info = get_venue_info(ch_nearby_venues['id'])"
   ]
  },
  {
   "cell_type": "code",
   "execution_count": 73,
   "metadata": {},
   "outputs": [
    {
     "data": {
      "text/plain": [
       "[['Espresso Vivace', {'tier': 1, 'message': 'Cheap', 'currency': '$'}, 379],\n",
       " ['CorePower Yoga', 'Not Available', 31],\n",
       " ['Corvus & Co.', {'tier': 3, 'message': 'Expensive', 'currency': '$'}, 45],\n",
       " ['Altura', {'tier': 4, 'message': 'Very Expensive', 'currency': '$'}, 79],\n",
       " ['Witness', {'tier': 2, 'message': 'Moderate', 'currency': '$'}, 210],\n",
       " ['Poppy', {'tier': 3, 'message': 'Expensive', 'currency': '$'}, 195],\n",
       " [\"Due' Cucina Italiana\",\n",
       "  {'tier': 2, 'message': 'Moderate', 'currency': '$'},\n",
       "  32],\n",
       " ['Boca Restobar & Grill',\n",
       "  {'tier': 2, 'message': 'Moderate', 'currency': '$'},\n",
       "  9],\n",
       " ['Lionhead', 'Not Available', 51],\n",
       " ['Herb & Bitter Public House',\n",
       "  {'tier': 3, 'message': 'Expensive', 'currency': '$'},\n",
       "  86]]"
      ]
     },
     "execution_count": 73,
     "metadata": {},
     "output_type": "execute_result"
    }
   ],
   "source": [
    "ch_venue_info"
   ]
  },
  {
   "cell_type": "code",
   "execution_count": 74,
   "metadata": {},
   "outputs": [
    {
     "data": {
      "text/html": [
       "<div>\n",
       "<style scoped>\n",
       "    .dataframe tbody tr th:only-of-type {\n",
       "        vertical-align: middle;\n",
       "    }\n",
       "\n",
       "    .dataframe tbody tr th {\n",
       "        vertical-align: top;\n",
       "    }\n",
       "\n",
       "    .dataframe thead th {\n",
       "        text-align: right;\n",
       "    }\n",
       "</style>\n",
       "<table border=\"1\" class=\"dataframe\">\n",
       "  <thead>\n",
       "    <tr style=\"text-align: right;\">\n",
       "      <th></th>\n",
       "      <th>name</th>\n",
       "      <th>price_tier</th>\n",
       "      <th>likes</th>\n",
       "    </tr>\n",
       "  </thead>\n",
       "  <tbody>\n",
       "    <tr>\n",
       "      <th>0</th>\n",
       "      <td>Espresso Vivace</td>\n",
       "      <td>Cheap</td>\n",
       "      <td>379</td>\n",
       "    </tr>\n",
       "    <tr>\n",
       "      <th>4</th>\n",
       "      <td>Witness</td>\n",
       "      <td>Moderate</td>\n",
       "      <td>210</td>\n",
       "    </tr>\n",
       "    <tr>\n",
       "      <th>5</th>\n",
       "      <td>Poppy</td>\n",
       "      <td>Expensive</td>\n",
       "      <td>195</td>\n",
       "    </tr>\n",
       "    <tr>\n",
       "      <th>9</th>\n",
       "      <td>Herb &amp; Bitter Public House</td>\n",
       "      <td>Expensive</td>\n",
       "      <td>86</td>\n",
       "    </tr>\n",
       "    <tr>\n",
       "      <th>3</th>\n",
       "      <td>Altura</td>\n",
       "      <td>Very Expensive</td>\n",
       "      <td>79</td>\n",
       "    </tr>\n",
       "    <tr>\n",
       "      <th>8</th>\n",
       "      <td>Lionhead</td>\n",
       "      <td>None</td>\n",
       "      <td>51</td>\n",
       "    </tr>\n",
       "    <tr>\n",
       "      <th>2</th>\n",
       "      <td>Corvus &amp; Co.</td>\n",
       "      <td>Expensive</td>\n",
       "      <td>45</td>\n",
       "    </tr>\n",
       "    <tr>\n",
       "      <th>6</th>\n",
       "      <td>Due' Cucina Italiana</td>\n",
       "      <td>Moderate</td>\n",
       "      <td>32</td>\n",
       "    </tr>\n",
       "    <tr>\n",
       "      <th>1</th>\n",
       "      <td>CorePower Yoga</td>\n",
       "      <td>None</td>\n",
       "      <td>31</td>\n",
       "    </tr>\n",
       "    <tr>\n",
       "      <th>7</th>\n",
       "      <td>Boca Restobar &amp; Grill</td>\n",
       "      <td>Moderate</td>\n",
       "      <td>9</td>\n",
       "    </tr>\n",
       "  </tbody>\n",
       "</table>\n",
       "</div>"
      ],
      "text/plain": [
       "                         name      price_tier  likes\n",
       "0             Espresso Vivace           Cheap    379\n",
       "4                     Witness        Moderate    210\n",
       "5                       Poppy       Expensive    195\n",
       "9  Herb & Bitter Public House       Expensive     86\n",
       "3                      Altura  Very Expensive     79\n",
       "8                    Lionhead            None     51\n",
       "2                Corvus & Co.       Expensive     45\n",
       "6        Due' Cucina Italiana        Moderate     32\n",
       "1              CorePower Yoga            None     31\n",
       "7       Boca Restobar & Grill        Moderate      9"
      ]
     },
     "execution_count": 74,
     "metadata": {},
     "output_type": "execute_result"
    }
   ],
   "source": [
    "ch_df = pd.DataFrame(ch_venue_info, columns=['name', 'price_tier', 'likes'])\n",
    "ch_df['price_tier'] = ch_df.apply(get_price_tier, axis=1)\n",
    "ch_df.sort_values('likes', ascending=False)"
   ]
  },
  {
   "cell_type": "markdown",
   "metadata": {},
   "source": [
    "Seems like Capitol Hill have a lot more expensive restaurants than the other two areas! Similar to Wicker Parker, it has more restaurants in the area than activity venues(such as Yoga, parks, tattoo parlors, etc.)"
   ]
  },
  {
   "cell_type": "markdown",
   "metadata": {},
   "source": [
    "# Results"
   ]
  },
  {
   "cell_type": "markdown",
   "metadata": {},
   "source": [
    "##### Price Range\n",
    "\n",
    "Based on the analysis, it would seem that Queen Anne has might have a closer price range of venues to Wicker Park than Capitol Hill. However, due to the limited amounts of premium calls per day, it is possible that the expensive restaurants in Queen Anne were simply missed. Queen Anne also had more venues that do not have a labeled price tier making it harder to compare as well.  \n",
    "Capitol Hill definitely has the more expensive venues of the three areas. Just within the closer-examined 10 venues, it already had significantly more expensive venues than the other two locations."
   ]
  },
  {
   "cell_type": "markdown",
   "metadata": {},
   "source": [
    "##### Amount of Venues\n",
    "\n",
    "Queen Anne has less venues than Wicker Park does. Capitol Hill also has less but more than Queen Anne.  \n",
    "It would seem that Wicker Park outnumbers both areas in terms of different types of venue. In the two sections of seeing what the difference in the category labels of venues are, Wicker Park have a lot more to offer."
   ]
  },
  {
   "cell_type": "markdown",
   "metadata": {},
   "source": [
    "##### Popularity\n",
    "\n",
    "Wicker Park venues have significantly more likes than Queen Anne or Capitol Hill.  \n",
    "It signifies that Wicker Park could be a busier area with more foot traffic. Or people are very vocal in that area.  \n",
    "Capitol Hill comes second."
   ]
  },
  {
   "cell_type": "markdown",
   "metadata": {},
   "source": [
    "# Discussion"
   ]
  },
  {
   "cell_type": "markdown",
   "metadata": {},
   "source": [
    "After the anaylsis, it would seem that Capitol Hill would be the better choice for someone looking for a more similar experience they got in Wicker Park. It is a tad bit more expensive but it will also provide an entertaining lifestyle. If the individual appreciated the food choices in Wicker Park, Capitol Hill can offer a similar experience on a smaller scale.  \n",
    "\n",
    "Queen Anne seems more calm and quiet. This would be a good choice for someone who would like to switch up what they got at Wicker Park. Although not as much variety of food types, there are many activities around."
   ]
  },
  {
   "cell_type": "markdown",
   "metadata": {},
   "source": [
    "# Conclusion"
   ]
  },
  {
   "cell_type": "markdown",
   "metadata": {},
   "source": [
    "Although we got a glimpse of the neighbourhoods, this is not everything there is to it. In order to know the neighbourhood, it cannot simply be based upon the venues in the area. It is based on a number of other factors such as safety, accessibility, etc.  \n",
    "Examining venues closer is important because moving across country can be stressful and frightening but when you are more comfortable with what you will be surrounded with, it can take some stress off.  \n",
    "Everyone needs activities to do when they are in a new place and choosing an area that fits your need especially during the first year can really set the tone for the rest of your time in the new city. Start off on the right foot and do some research and comparison before moving!"
   ]
  }
 ],
 "metadata": {
  "kernelspec": {
   "display_name": "Python 3",
   "language": "python",
   "name": "python3"
  },
  "language_info": {
   "codemirror_mode": {
    "name": "ipython",
    "version": 3
   },
   "file_extension": ".py",
   "mimetype": "text/x-python",
   "name": "python",
   "nbconvert_exporter": "python",
   "pygments_lexer": "ipython3",
   "version": "3.7.0"
  }
 },
 "nbformat": 4,
 "nbformat_minor": 2
}
