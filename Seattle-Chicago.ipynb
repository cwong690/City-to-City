{
 "cells": [
  {
   "cell_type": "markdown",
   "metadata": {},
   "source": [
    "# Making Moves: Chicago to Seattle\n",
    "\n",
    "Moving to another city is always exciting but also comes with a lot of decisions. One of the biggest decisions is: where should I live?  \n",
    "The area you live can greatly impact your first impression of the new city, not to mention it's a decision you HAVE to make before you move!  \n",
    "Some people lived in busy places and would like a change of pace when they move. Others would like the same energy they lived around in their old city! This project is to help compare neighbourhoods between two cities (in this case, Chicago and Seattle) and help see which areas are similar and which ones might be the complete opposite.  \n",
    "\n",
    "The data we will be using will be venue data from Foursquare. The venues we will be gathering will relate to many things that a person would be looking for when living, for example:  \n",
    "    - Grocery stores\n",
    "    - Restaurants\n",
    "    - Shopping Centers\n",
    "    - Gas Stations\n",
    "    - Bars/Clubs\n",
    "...and more!  \n",
    "  \n",
    "We will be seeing if there are areas with more or less of stores. We can also see if there are neighbourhoods with a lot of bars and nightlife, as that would increase the noise level in the area. Grocery stores are essential to basically everyone so that will be a big factor. We can then rate the neighbourhoods by the amount "
   ]
  },
  {
   "cell_type": "code",
   "execution_count": null,
   "metadata": {},
   "outputs": [],
   "source": []
  },
  {
   "cell_type": "code",
   "execution_count": null,
   "metadata": {},
   "outputs": [],
   "source": []
  },
  {
   "cell_type": "code",
   "execution_count": null,
   "metadata": {},
   "outputs": [],
   "source": []
  }
 ],
 "metadata": {
  "kernelspec": {
   "display_name": "Python 3",
   "language": "python",
   "name": "python3"
  },
  "language_info": {
   "codemirror_mode": {
    "name": "ipython",
    "version": 3
   },
   "file_extension": ".py",
   "mimetype": "text/x-python",
   "name": "python",
   "nbconvert_exporter": "python",
   "pygments_lexer": "ipython3",
   "version": "3.7.0"
  }
 },
 "nbformat": 4,
 "nbformat_minor": 2
}
