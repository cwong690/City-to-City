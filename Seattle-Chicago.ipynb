{
 "cells": [
  {
   "cell_type": "markdown",
   "metadata": {},
   "source": [
    "# Making Moves: Chicago to Seattle\n",
    "\n",
    "Moving to another city is always exciting but also comes with a lot of decisions. One of the biggest decisions is: where should I live?  \n",
    "The area you live can greatly impact your first impression of the new city, not to mention it's a decision you HAVE to make before you move!  \n",
    "Some people lived in busy places and would like a change of pace when they move. Others would like the same energy they lived around in their old city! This project is to help compare certain neighbourhoods between two cities (in this case, Chicago and Seattle) and help see which areas are similar and which ones might be the complete opposite.  \n",
    "\n",
    "After doing some neighbourhood research, we will compare the neighbourhood to move from, Wicker Park in Chicago, to Capitol Hill in Seattle and then also Queen Anne in Seattle.\n",
    "\n",
    "The data we will be using will be venue data from Foursquare. The venues we will be gathering will relate to many things that a person would be looking for when living, for example:  \n",
    "    - Grocery stores\n",
    "    - Affordability of these venues\n",
    "    - Restaurants\n",
    "    - Shopping Centers\n",
    "...and more!  \n",
    "  \n",
    "Capitol Hill and Queen Anne will be the two neighbourhoods we will say our client is looking to move into from Wicker Park in Chicago. Let's see if we can help them decide."
   ]
  },
  {
   "cell_type": "markdown",
   "metadata": {},
   "source": [
    "### Import libraries"
   ]
  },
  {
   "cell_type": "code",
   "execution_count": 6,
   "metadata": {},
   "outputs": [
    {
     "name": "stdout",
     "output_type": "stream",
     "text": [
      "Libraries imported.\n"
     ]
    }
   ],
   "source": [
    "import numpy as np\n",
    "import pandas as pd\n",
    "pd.set_option('display.max_columns', None)\n",
    "pd.set_option('display.max_rows', None)\n",
    "\n",
    "import json\n",
    "\n",
    "from geopy.geocoders import Nominatim # latitude/longitude converter\n",
    "\n",
    "import requests\n",
    "from pandas.io.json import json_normalize #json files to pandas dataframe\n",
    "\n",
    "import matplotlib.cm as cm\n",
    "import matplotlib.colors as colors\n",
    "\n",
    "import folium\n",
    "\n",
    "print('Libraries imported.')"
   ]
  },
  {
   "cell_type": "code",
   "execution_count": 7,
   "metadata": {},
   "outputs": [],
   "source": [
    "import client_credentials as cc"
   ]
  },
  {
   "cell_type": "markdown",
   "metadata": {},
   "source": [
    "### Set up credentials"
   ]
  },
  {
   "cell_type": "code",
   "execution_count": 8,
   "metadata": {},
   "outputs": [],
   "source": [
    "CLIENT_ID = cc.client_id\n",
    "CLIENT_SECRET = cc.client_secret\n",
    "VERSION = '20180604'"
   ]
  },
  {
   "cell_type": "markdown",
   "metadata": {},
   "source": [
    "# Methodology Section"
   ]
  },
  {
   "cell_type": "markdown",
   "metadata": {},
   "source": [
    "### Import Chicago data from Foursquare API and create DataFrame"
   ]
  },
  {
   "cell_type": "code",
   "execution_count": 9,
   "metadata": {},
   "outputs": [
    {
     "name": "stdout",
     "output_type": "stream",
     "text": [
      "Wicker Park, Chicago, IL coordinates:  41.9078018 -87.6781551\n"
     ]
    }
   ],
   "source": [
    "c_address = 'Wicker Park, Chicago, IL'\n",
    "\n",
    "c_geolocator = Nominatim(user_agent='foursquare_agent')\n",
    "c_location = c_geolocator.geocode(c_address)\n",
    "c_latitude = c_location.latitude\n",
    "c_longitude = c_location.longitude\n",
    "print('Wicker Park, Chicago, IL coordinates: ', c_latitude, c_longitude)"
   ]
  },
  {
   "cell_type": "code",
   "execution_count": 10,
   "metadata": {},
   "outputs": [],
   "source": [
    "radius = 500\n",
    "LIMIT = 100\n",
    "\n",
    "c_url = 'https://api.foursquare.com/v2/venues/explore?client_id={}&client_secret={}&ll={},{}&v={}&radius={}&limit={}'.format(\n",
    "        CLIENT_ID,\n",
    "        CLIENT_SECRET,\n",
    "        c_latitude,\n",
    "        c_longitude,\n",
    "        VERSION,\n",
    "        radius,\n",
    "        LIMIT\n",
    "        )"
   ]
  },
  {
   "cell_type": "code",
   "execution_count": 6,
   "metadata": {},
   "outputs": [],
   "source": [
    "results = requests.get(c_url).json()"
   ]
  },
  {
   "cell_type": "code",
   "execution_count": 7,
   "metadata": {},
   "outputs": [],
   "source": [
    "# Retrieve category type from the json format\n",
    "def get_category_type(row):\n",
    "    try:\n",
    "        category_list = row['categories']\n",
    "    except:\n",
    "        category_list = row['venue.categories']\n",
    "    \n",
    "    if len(category_list) == 0:\n",
    "        return None\n",
    "    else:\n",
    "        return category_list[0]['name']"
   ]
  },
  {
   "cell_type": "code",
   "execution_count": 8,
   "metadata": {},
   "outputs": [],
   "source": [
    "venues = results['response']['groups'][0]['items']\n",
    "\n",
    "nearby_venues = json_normalize(venues) #flattens JSON\n",
    "\n",
    "filtered_columns = ['venue.name', 'venue.id', 'venue.categories', 'venue.location.lat', 'venue.location.lng']\n",
    "nearby_venues = nearby_venues.loc[:, filtered_columns]\n",
    "\n",
    "nearby_venues['venue.categories'] = nearby_venues.apply(get_category_type, axis = 1)"
   ]
  },
  {
   "cell_type": "code",
   "execution_count": 9,
   "metadata": {},
   "outputs": [
    {
     "data": {
      "text/html": [
       "<div>\n",
       "<style scoped>\n",
       "    .dataframe tbody tr th:only-of-type {\n",
       "        vertical-align: middle;\n",
       "    }\n",
       "\n",
       "    .dataframe tbody tr th {\n",
       "        vertical-align: top;\n",
       "    }\n",
       "\n",
       "    .dataframe thead th {\n",
       "        text-align: right;\n",
       "    }\n",
       "</style>\n",
       "<table border=\"1\" class=\"dataframe\">\n",
       "  <thead>\n",
       "    <tr style=\"text-align: right;\">\n",
       "      <th></th>\n",
       "      <th>venue.name</th>\n",
       "      <th>venue.id</th>\n",
       "      <th>venue.categories</th>\n",
       "      <th>venue.location.lat</th>\n",
       "      <th>venue.location.lng</th>\n",
       "    </tr>\n",
       "  </thead>\n",
       "  <tbody>\n",
       "    <tr>\n",
       "      <th>0</th>\n",
       "      <td>Dove's Luncheonette</td>\n",
       "      <td>541c39ff498ee385598bdfff</td>\n",
       "      <td>Diner</td>\n",
       "      <td>41.909524</td>\n",
       "      <td>-87.677447</td>\n",
       "    </tr>\n",
       "    <tr>\n",
       "      <th>1</th>\n",
       "      <td>Big Star</td>\n",
       "      <td>4adbf2bbf964a520242b21e3</td>\n",
       "      <td>Taco Place</td>\n",
       "      <td>41.909229</td>\n",
       "      <td>-87.677279</td>\n",
       "    </tr>\n",
       "    <tr>\n",
       "      <th>2</th>\n",
       "      <td>The Violet Hour</td>\n",
       "      <td>49ba99c9f964a5207e531fe3</td>\n",
       "      <td>Speakeasy</td>\n",
       "      <td>41.909048</td>\n",
       "      <td>-87.677631</td>\n",
       "    </tr>\n",
       "    <tr>\n",
       "      <th>3</th>\n",
       "      <td>Wicker Park</td>\n",
       "      <td>4ae49d01f964a520519c21e3</td>\n",
       "      <td>Park</td>\n",
       "      <td>41.907960</td>\n",
       "      <td>-87.677267</td>\n",
       "    </tr>\n",
       "    <tr>\n",
       "      <th>4</th>\n",
       "      <td>Stan's Donuts &amp; Coffee</td>\n",
       "      <td>52f2eebd498ea23d1a8d16d5</td>\n",
       "      <td>Donut Shop</td>\n",
       "      <td>41.909927</td>\n",
       "      <td>-87.677462</td>\n",
       "    </tr>\n",
       "    <tr>\n",
       "      <th>5</th>\n",
       "      <td>La Colombe Torrefaction</td>\n",
       "      <td>51d0683c498e3eb7325145da</td>\n",
       "      <td>Coffee Shop</td>\n",
       "      <td>41.909859</td>\n",
       "      <td>-87.677651</td>\n",
       "    </tr>\n",
       "    <tr>\n",
       "      <th>6</th>\n",
       "      <td>Myopic Books</td>\n",
       "      <td>4a294136f964a52075951fe3</td>\n",
       "      <td>Bookstore</td>\n",
       "      <td>41.909977</td>\n",
       "      <td>-87.676851</td>\n",
       "    </tr>\n",
       "    <tr>\n",
       "      <th>7</th>\n",
       "      <td>Jeni's Splendid Ice Creams</td>\n",
       "      <td>54eb6f69498e75f95d61b00a</td>\n",
       "      <td>Ice Cream Shop</td>\n",
       "      <td>41.908827</td>\n",
       "      <td>-87.674944</td>\n",
       "    </tr>\n",
       "    <tr>\n",
       "      <th>8</th>\n",
       "      <td>The Exchange</td>\n",
       "      <td>4a84c7f3f964a5209afd1fe3</td>\n",
       "      <td>Video Game Store</td>\n",
       "      <td>41.909184</td>\n",
       "      <td>-87.675776</td>\n",
       "    </tr>\n",
       "    <tr>\n",
       "      <th>9</th>\n",
       "      <td>Bonci Pizzeria</td>\n",
       "      <td>5ada9afe41868621d2cce37b</td>\n",
       "      <td>Pizza Place</td>\n",
       "      <td>41.910194</td>\n",
       "      <td>-87.677409</td>\n",
       "    </tr>\n",
       "  </tbody>\n",
       "</table>\n",
       "</div>"
      ],
      "text/plain": [
       "                   venue.name                  venue.id  venue.categories  \\\n",
       "0         Dove's Luncheonette  541c39ff498ee385598bdfff             Diner   \n",
       "1                    Big Star  4adbf2bbf964a520242b21e3        Taco Place   \n",
       "2             The Violet Hour  49ba99c9f964a5207e531fe3         Speakeasy   \n",
       "3                 Wicker Park  4ae49d01f964a520519c21e3              Park   \n",
       "4      Stan's Donuts & Coffee  52f2eebd498ea23d1a8d16d5        Donut Shop   \n",
       "5     La Colombe Torrefaction  51d0683c498e3eb7325145da       Coffee Shop   \n",
       "6                Myopic Books  4a294136f964a52075951fe3         Bookstore   \n",
       "7  Jeni's Splendid Ice Creams  54eb6f69498e75f95d61b00a    Ice Cream Shop   \n",
       "8                The Exchange  4a84c7f3f964a5209afd1fe3  Video Game Store   \n",
       "9              Bonci Pizzeria  5ada9afe41868621d2cce37b       Pizza Place   \n",
       "\n",
       "   venue.location.lat  venue.location.lng  \n",
       "0           41.909524          -87.677447  \n",
       "1           41.909229          -87.677279  \n",
       "2           41.909048          -87.677631  \n",
       "3           41.907960          -87.677267  \n",
       "4           41.909927          -87.677462  \n",
       "5           41.909859          -87.677651  \n",
       "6           41.909977          -87.676851  \n",
       "7           41.908827          -87.674944  \n",
       "8           41.909184          -87.675776  \n",
       "9           41.910194          -87.677409  "
      ]
     },
     "execution_count": 9,
     "metadata": {},
     "output_type": "execute_result"
    }
   ],
   "source": [
    "nearby_venues.head(10)"
   ]
  },
  {
   "cell_type": "code",
   "execution_count": 10,
   "metadata": {},
   "outputs": [
    {
     "name": "stdout",
     "output_type": "stream",
     "text": [
      "<class 'pandas.core.frame.DataFrame'>\n",
      "RangeIndex: 100 entries, 0 to 99\n",
      "Data columns (total 5 columns):\n",
      "venue.name            100 non-null object\n",
      "venue.id              100 non-null object\n",
      "venue.categories      100 non-null object\n",
      "venue.location.lat    100 non-null float64\n",
      "venue.location.lng    100 non-null float64\n",
      "dtypes: float64(2), object(3)\n",
      "memory usage: 4.0+ KB\n"
     ]
    }
   ],
   "source": [
    "nearby_venues.info()"
   ]
  },
  {
   "cell_type": "markdown",
   "metadata": {},
   "source": [
    "100 venues came back in the results for Wicker Park area."
   ]
  },
  {
   "cell_type": "markdown",
   "metadata": {},
   "source": [
    "Just from looking at a few places on the list, we can see that there is quite a bit of variations. There is also a park near by which is a nice additional feature."
   ]
  },
  {
   "cell_type": "code",
   "execution_count": 11,
   "metadata": {},
   "outputs": [],
   "source": [
    "# Clean up column names\n",
    "nearby_venues.columns = [col.split('.')[-1] for col in nearby_venues.columns]"
   ]
  },
  {
   "cell_type": "code",
   "execution_count": 12,
   "metadata": {
    "scrolled": true
   },
   "outputs": [],
   "source": [
    "nearby_venues_map = nearby_venues[0:51]"
   ]
  },
  {
   "cell_type": "code",
   "execution_count": 13,
   "metadata": {},
   "outputs": [
    {
     "data": {
      "text/html": [
       "<div style=\"width:100%;\"><div style=\"position:relative;width:100%;height:0;padding-bottom:60%;\"><iframe src=\"data:text/html;charset=utf-8;base64,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\" style=\"position:absolute;width:100%;height:100%;left:0;top:0;border:none !important;\" allowfullscreen webkitallowfullscreen mozallowfullscreen></iframe></div></div>"
      ],
      "text/plain": [
       "<folium.folium.Map at 0x11b48fda0>"
      ]
     },
     "execution_count": 13,
     "metadata": {},
     "output_type": "execute_result"
    }
   ],
   "source": [
    "#Generate map centered around address\n",
    "wp_venues_map = folium.Map(location=[c_latitude, c_longitude], zoom_start=13)\n",
    "\n",
    "#red marker added for main location\n",
    "folium.features.CircleMarker(\n",
    "    [c_latitude,c_longitude],\n",
    "    radius=10,\n",
    "    color='red',\n",
    "    popup='Wicker Park',\n",
    "    fill=True,\n",
    "    fill_color= 'red',\n",
    "    fill_opacity = 0.6\n",
    ").add_to(wp_venues_map)\n",
    "\n",
    "#blue markers for search results\n",
    "for lat, lng, label in zip(nearby_venues_map.lat, nearby_venues_map.lng, nearby_venues_map.categories):\n",
    "    folium.features.CircleMarker(\n",
    "        [lat, lng],\n",
    "        radius = 5,\n",
    "        color='blue',\n",
    "        popup=label,\n",
    "        fill=True,\n",
    "        fill_color='blue',\n",
    "        fill_opacity=0.6\n",
    "    ).add_to(wp_venues_map)\n",
    "    \n",
    "wp_venues_map"
   ]
  },
  {
   "cell_type": "markdown",
   "metadata": {},
   "source": [
    "### Explore Wicker"
   ]
  },
  {
   "cell_type": "code",
   "execution_count": 14,
   "metadata": {},
   "outputs": [
    {
     "data": {
      "text/plain": [
       "name          100\n",
       "id            100\n",
       "categories    100\n",
       "lat           100\n",
       "lng           100\n",
       "dtype: int64"
      ]
     },
     "execution_count": 14,
     "metadata": {},
     "output_type": "execute_result"
    }
   ],
   "source": [
    "nearby_venues.count()"
   ]
  },
  {
   "cell_type": "markdown",
   "metadata": {},
   "source": [
    "There are 100 venues within a radius of 500 meters of the center of Wicker Park in Chicago."
   ]
  },
  {
   "cell_type": "code",
   "execution_count": 15,
   "metadata": {},
   "outputs": [
    {
     "data": {
      "text/plain": [
       "73"
      ]
     },
     "execution_count": 15,
     "metadata": {},
     "output_type": "execute_result"
    }
   ],
   "source": [
    "wp_unique = nearby_venues['categories'].unique()\n",
    "nearby_venues['categories'].nunique()"
   ]
  },
  {
   "cell_type": "markdown",
   "metadata": {},
   "source": [
    "There are 71 different types of venues around the area. That is pretty good!"
   ]
  },
  {
   "cell_type": "code",
   "execution_count": 16,
   "metadata": {},
   "outputs": [
    {
     "data": {
      "text/plain": [
       "categories\n",
       "Pizza Place          6\n",
       "Boutique             5\n",
       "Clothing Store       4\n",
       "Coffee Shop          3\n",
       "Bar                  3\n",
       "Bookstore            3\n",
       "Accessories Store    2\n",
       "Shoe Store           2\n",
       "Korean Restaurant    2\n",
       "Lounge               2\n",
       "Name: name, dtype: int64"
      ]
     },
     "execution_count": 16,
     "metadata": {},
     "output_type": "execute_result"
    }
   ],
   "source": [
    "top_categories = nearby_venues.groupby('categories').count()['name'].sort_values(ascending=False).head(10)\n",
    "top_categories"
   ]
  },
  {
   "cell_type": "markdown",
   "metadata": {},
   "source": [
    "The category with the most venues around is a pizza place, followed by a few different types of clothing related stores."
   ]
  },
  {
   "cell_type": "markdown",
   "metadata": {},
   "source": [
    "### Wicker Park Price Group and Likes"
   ]
  },
  {
   "cell_type": "markdown",
   "metadata": {},
   "source": [
    "Let's take a look at 10 of the venues and its pricing group and likes to get a sense of the area."
   ]
  },
  {
   "cell_type": "code",
   "execution_count": 17,
   "metadata": {},
   "outputs": [],
   "source": [
    "def get_venue_info(dataframe_col):\n",
    "    venue_info = []\n",
    "    for venue_id in dataframe_col[0:10]:\n",
    "        v_url = 'https://api.foursquare.com/v2/venues/{}?client_id={}&client_secret={}&v={}'.format(venue_id, CLIENT_ID, CLIENT_SECRET, VERSION)\n",
    "        v_results = requests.get(v_url).json()\n",
    "        try:\n",
    "            venue_name = v_results['response']['venue']['name']\n",
    "        except:\n",
    "            venue_name = 'Not Available'\n",
    "        try:\n",
    "            venue_price = v_results['response']['venue']['price']\n",
    "        except:\n",
    "            venue_price = 'Not Available'\n",
    "        try:\n",
    "            venue_likes = v_results['response']['venue']['likes']['count']\n",
    "        except:\n",
    "            venue_likes = 'Not Available'\n",
    "        venue_info.append([venue_name, venue_price, venue_likes])\n",
    "    return venue_info"
   ]
  },
  {
   "cell_type": "code",
   "execution_count": 18,
   "metadata": {},
   "outputs": [
    {
     "name": "stdout",
     "output_type": "stream",
     "text": [
      "[[\"Dove's Luncheonette\", {'tier': 2, 'message': 'Moderate', 'currency': '$'}, 386], ['Big Star', {'tier': 2, 'message': 'Moderate', 'currency': '$'}, 1552], ['The Violet Hour', {'tier': 2, 'message': 'Moderate', 'currency': '$'}, 670], ['Wicker Park', 'Not Available', 210], [\"Stan's Donuts & Coffee\", {'tier': 2, 'message': 'Moderate', 'currency': '$'}, 568], ['La Colombe Torrefaction', {'tier': 1, 'message': 'Cheap', 'currency': '$'}, 176], ['Myopic Books', 'Not Available', 259], [\"Jeni's Splendid Ice Creams\", {'tier': 1, 'message': 'Cheap', 'currency': '$'}, 324], ['The Exchange', 'Not Available', 30], ['Bonci Pizzeria', {'tier': 1, 'message': 'Cheap', 'currency': '$'}, 35]]\n"
     ]
    }
   ],
   "source": [
    "wicker_venue_info = get_venue_info(nearby_venues['id'])\n",
    "print(wicker_venue_info)"
   ]
  },
  {
   "cell_type": "code",
   "execution_count": 19,
   "metadata": {},
   "outputs": [],
   "source": [
    "# nearby_venues[nearby_venues['id'] == '541c39ff498ee385598bdfff']"
   ]
  },
  {
   "cell_type": "code",
   "execution_count": 20,
   "metadata": {},
   "outputs": [
    {
     "data": {
      "text/html": [
       "<div>\n",
       "<style scoped>\n",
       "    .dataframe tbody tr th:only-of-type {\n",
       "        vertical-align: middle;\n",
       "    }\n",
       "\n",
       "    .dataframe tbody tr th {\n",
       "        vertical-align: top;\n",
       "    }\n",
       "\n",
       "    .dataframe thead th {\n",
       "        text-align: right;\n",
       "    }\n",
       "</style>\n",
       "<table border=\"1\" class=\"dataframe\">\n",
       "  <thead>\n",
       "    <tr style=\"text-align: right;\">\n",
       "      <th></th>\n",
       "      <th>name</th>\n",
       "      <th>price_tier</th>\n",
       "      <th>likes</th>\n",
       "    </tr>\n",
       "  </thead>\n",
       "  <tbody>\n",
       "    <tr>\n",
       "      <th>0</th>\n",
       "      <td>Dove's Luncheonette</td>\n",
       "      <td>{'tier': 2, 'message': 'Moderate', 'currency':...</td>\n",
       "      <td>386</td>\n",
       "    </tr>\n",
       "    <tr>\n",
       "      <th>1</th>\n",
       "      <td>Big Star</td>\n",
       "      <td>{'tier': 2, 'message': 'Moderate', 'currency':...</td>\n",
       "      <td>1552</td>\n",
       "    </tr>\n",
       "    <tr>\n",
       "      <th>2</th>\n",
       "      <td>The Violet Hour</td>\n",
       "      <td>{'tier': 2, 'message': 'Moderate', 'currency':...</td>\n",
       "      <td>670</td>\n",
       "    </tr>\n",
       "    <tr>\n",
       "      <th>3</th>\n",
       "      <td>Wicker Park</td>\n",
       "      <td>Not Available</td>\n",
       "      <td>210</td>\n",
       "    </tr>\n",
       "    <tr>\n",
       "      <th>4</th>\n",
       "      <td>Stan's Donuts &amp; Coffee</td>\n",
       "      <td>{'tier': 2, 'message': 'Moderate', 'currency':...</td>\n",
       "      <td>568</td>\n",
       "    </tr>\n",
       "    <tr>\n",
       "      <th>5</th>\n",
       "      <td>La Colombe Torrefaction</td>\n",
       "      <td>{'tier': 1, 'message': 'Cheap', 'currency': '$'}</td>\n",
       "      <td>176</td>\n",
       "    </tr>\n",
       "    <tr>\n",
       "      <th>6</th>\n",
       "      <td>Myopic Books</td>\n",
       "      <td>Not Available</td>\n",
       "      <td>259</td>\n",
       "    </tr>\n",
       "    <tr>\n",
       "      <th>7</th>\n",
       "      <td>Jeni's Splendid Ice Creams</td>\n",
       "      <td>{'tier': 1, 'message': 'Cheap', 'currency': '$'}</td>\n",
       "      <td>324</td>\n",
       "    </tr>\n",
       "    <tr>\n",
       "      <th>8</th>\n",
       "      <td>The Exchange</td>\n",
       "      <td>Not Available</td>\n",
       "      <td>30</td>\n",
       "    </tr>\n",
       "    <tr>\n",
       "      <th>9</th>\n",
       "      <td>Bonci Pizzeria</td>\n",
       "      <td>{'tier': 1, 'message': 'Cheap', 'currency': '$'}</td>\n",
       "      <td>35</td>\n",
       "    </tr>\n",
       "  </tbody>\n",
       "</table>\n",
       "</div>"
      ],
      "text/plain": [
       "                         name  \\\n",
       "0         Dove's Luncheonette   \n",
       "1                    Big Star   \n",
       "2             The Violet Hour   \n",
       "3                 Wicker Park   \n",
       "4      Stan's Donuts & Coffee   \n",
       "5     La Colombe Torrefaction   \n",
       "6                Myopic Books   \n",
       "7  Jeni's Splendid Ice Creams   \n",
       "8                The Exchange   \n",
       "9              Bonci Pizzeria   \n",
       "\n",
       "                                          price_tier  likes  \n",
       "0  {'tier': 2, 'message': 'Moderate', 'currency':...    386  \n",
       "1  {'tier': 2, 'message': 'Moderate', 'currency':...   1552  \n",
       "2  {'tier': 2, 'message': 'Moderate', 'currency':...    670  \n",
       "3                                      Not Available    210  \n",
       "4  {'tier': 2, 'message': 'Moderate', 'currency':...    568  \n",
       "5   {'tier': 1, 'message': 'Cheap', 'currency': '$'}    176  \n",
       "6                                      Not Available    259  \n",
       "7   {'tier': 1, 'message': 'Cheap', 'currency': '$'}    324  \n",
       "8                                      Not Available     30  \n",
       "9   {'tier': 1, 'message': 'Cheap', 'currency': '$'}     35  "
      ]
     },
     "execution_count": 20,
     "metadata": {},
     "output_type": "execute_result"
    }
   ],
   "source": [
    "wicker_df = pd.DataFrame(wicker_venue_info, columns=['name', 'price_tier', 'likes'])\n",
    "wicker_df"
   ]
  },
  {
   "cell_type": "code",
   "execution_count": 21,
   "metadata": {},
   "outputs": [],
   "source": [
    "def get_price_tier(df):\n",
    "    price_tier = df['price_tier']\n",
    "    \n",
    "    if len(price_tier) == 0:\n",
    "        return None\n",
    "    elif price_tier == 'Not Available':\n",
    "        return None\n",
    "    else:\n",
    "        return price_tier['message']"
   ]
  },
  {
   "cell_type": "code",
   "execution_count": 22,
   "metadata": {},
   "outputs": [],
   "source": [
    "wicker_df['price_tier'] = wicker_df.apply(get_price_tier, axis=1)"
   ]
  },
  {
   "cell_type": "code",
   "execution_count": 23,
   "metadata": {},
   "outputs": [
    {
     "data": {
      "text/html": [
       "<div>\n",
       "<style scoped>\n",
       "    .dataframe tbody tr th:only-of-type {\n",
       "        vertical-align: middle;\n",
       "    }\n",
       "\n",
       "    .dataframe tbody tr th {\n",
       "        vertical-align: top;\n",
       "    }\n",
       "\n",
       "    .dataframe thead th {\n",
       "        text-align: right;\n",
       "    }\n",
       "</style>\n",
       "<table border=\"1\" class=\"dataframe\">\n",
       "  <thead>\n",
       "    <tr style=\"text-align: right;\">\n",
       "      <th></th>\n",
       "      <th>name</th>\n",
       "      <th>price_tier</th>\n",
       "      <th>likes</th>\n",
       "    </tr>\n",
       "  </thead>\n",
       "  <tbody>\n",
       "    <tr>\n",
       "      <th>1</th>\n",
       "      <td>Big Star</td>\n",
       "      <td>Moderate</td>\n",
       "      <td>1552</td>\n",
       "    </tr>\n",
       "    <tr>\n",
       "      <th>2</th>\n",
       "      <td>The Violet Hour</td>\n",
       "      <td>Moderate</td>\n",
       "      <td>670</td>\n",
       "    </tr>\n",
       "    <tr>\n",
       "      <th>4</th>\n",
       "      <td>Stan's Donuts &amp; Coffee</td>\n",
       "      <td>Moderate</td>\n",
       "      <td>568</td>\n",
       "    </tr>\n",
       "    <tr>\n",
       "      <th>0</th>\n",
       "      <td>Dove's Luncheonette</td>\n",
       "      <td>Moderate</td>\n",
       "      <td>386</td>\n",
       "    </tr>\n",
       "    <tr>\n",
       "      <th>7</th>\n",
       "      <td>Jeni's Splendid Ice Creams</td>\n",
       "      <td>Cheap</td>\n",
       "      <td>324</td>\n",
       "    </tr>\n",
       "    <tr>\n",
       "      <th>6</th>\n",
       "      <td>Myopic Books</td>\n",
       "      <td>None</td>\n",
       "      <td>259</td>\n",
       "    </tr>\n",
       "    <tr>\n",
       "      <th>3</th>\n",
       "      <td>Wicker Park</td>\n",
       "      <td>None</td>\n",
       "      <td>210</td>\n",
       "    </tr>\n",
       "    <tr>\n",
       "      <th>5</th>\n",
       "      <td>La Colombe Torrefaction</td>\n",
       "      <td>Cheap</td>\n",
       "      <td>176</td>\n",
       "    </tr>\n",
       "    <tr>\n",
       "      <th>9</th>\n",
       "      <td>Bonci Pizzeria</td>\n",
       "      <td>Cheap</td>\n",
       "      <td>35</td>\n",
       "    </tr>\n",
       "    <tr>\n",
       "      <th>8</th>\n",
       "      <td>The Exchange</td>\n",
       "      <td>None</td>\n",
       "      <td>30</td>\n",
       "    </tr>\n",
       "  </tbody>\n",
       "</table>\n",
       "</div>"
      ],
      "text/plain": [
       "                         name price_tier  likes\n",
       "1                    Big Star   Moderate   1552\n",
       "2             The Violet Hour   Moderate    670\n",
       "4      Stan's Donuts & Coffee   Moderate    568\n",
       "0         Dove's Luncheonette   Moderate    386\n",
       "7  Jeni's Splendid Ice Creams      Cheap    324\n",
       "6                Myopic Books       None    259\n",
       "3                 Wicker Park       None    210\n",
       "5     La Colombe Torrefaction      Cheap    176\n",
       "9              Bonci Pizzeria      Cheap     35\n",
       "8                The Exchange       None     30"
      ]
     },
     "execution_count": 23,
     "metadata": {},
     "output_type": "execute_result"
    }
   ],
   "source": [
    "wicker_df.sort_values('likes', ascending=False)"
   ]
  },
  {
   "cell_type": "markdown",
   "metadata": {},
   "source": [
    "From these 10 venues, it would seem the average price of a store around the Wicker Park area is in the moderate-cheap range. Out of the 10, only one venue is labeled as expensive. The amount of 'likes' for these places aren't too low suggesting they are not rated poorly either."
   ]
  },
  {
   "cell_type": "markdown",
   "metadata": {},
   "source": [
    "### Import Queen Anne in Seattle data from Foursquare API"
   ]
  },
  {
   "cell_type": "code",
   "execution_count": 12,
   "metadata": {},
   "outputs": [
    {
     "name": "stdout",
     "output_type": "stream",
     "text": [
      "Queen Anne coordinates:  47.6394805 -122.3607453\n"
     ]
    }
   ],
   "source": [
    "qa_address = 'Queen Anne, Seattle, WA'\n",
    "\n",
    "qa_geolocator = Nominatim(user_agent='foursquare_agent')\n",
    "qa_location = qa_geolocator.geocode(qa_address)\n",
    "qa_lat = qa_location.latitude\n",
    "qa_lng = qa_location.longitude\n",
    "\n",
    "print('Queen Anne coordinates: ', qa_lat, qa_lng)"
   ]
  },
  {
   "cell_type": "code",
   "execution_count": 13,
   "metadata": {},
   "outputs": [],
   "source": [
    "qa_url = 'https://api.foursquare.com/v2/venues/explore?client_id={}&client_secret={}&ll={},{}&v={}&radius={}&limit={}'.format(\n",
    "        CLIENT_ID,\n",
    "        CLIENT_SECRET,\n",
    "        qa_lat,\n",
    "        qa_lng,\n",
    "        VERSION,\n",
    "        radius,\n",
    "        LIMIT\n",
    "        )"
   ]
  },
  {
   "cell_type": "code",
   "execution_count": 26,
   "metadata": {},
   "outputs": [],
   "source": [
    "qa_results = requests.get(qa_url).json()"
   ]
  },
  {
   "cell_type": "code",
   "execution_count": 27,
   "metadata": {},
   "outputs": [],
   "source": [
    "qa_venues = qa_results['response']['groups'][0]['items']\n",
    "\n",
    "qa_nearby_venues = json_normalize(qa_venues)\n",
    "\n",
    "qa_nearby_venues = qa_nearby_venues.loc[:, filtered_columns]"
   ]
  },
  {
   "cell_type": "code",
   "execution_count": 28,
   "metadata": {
    "scrolled": true
   },
   "outputs": [
    {
     "data": {
      "text/html": [
       "<div>\n",
       "<style scoped>\n",
       "    .dataframe tbody tr th:only-of-type {\n",
       "        vertical-align: middle;\n",
       "    }\n",
       "\n",
       "    .dataframe tbody tr th {\n",
       "        vertical-align: top;\n",
       "    }\n",
       "\n",
       "    .dataframe thead th {\n",
       "        text-align: right;\n",
       "    }\n",
       "</style>\n",
       "<table border=\"1\" class=\"dataframe\">\n",
       "  <thead>\n",
       "    <tr style=\"text-align: right;\">\n",
       "      <th></th>\n",
       "      <th>name</th>\n",
       "      <th>id</th>\n",
       "      <th>categories</th>\n",
       "      <th>lat</th>\n",
       "      <th>lng</th>\n",
       "    </tr>\n",
       "  </thead>\n",
       "  <tbody>\n",
       "    <tr>\n",
       "      <th>0</th>\n",
       "      <td>Blue Highway Games</td>\n",
       "      <td>4b107d07f964a5208e7123e3</td>\n",
       "      <td>Toy / Game Store</td>\n",
       "      <td>47.638564</td>\n",
       "      <td>-122.357133</td>\n",
       "    </tr>\n",
       "    <tr>\n",
       "      <th>1</th>\n",
       "      <td>Eden Hill</td>\n",
       "      <td>55fb84ad498ef87ed7839f63</td>\n",
       "      <td>Restaurant</td>\n",
       "      <td>47.638698</td>\n",
       "      <td>-122.357034</td>\n",
       "    </tr>\n",
       "    <tr>\n",
       "      <th>2</th>\n",
       "      <td>How To Cook A Wolf</td>\n",
       "      <td>49e82bc3f964a5204a651fe3</td>\n",
       "      <td>Italian Restaurant</td>\n",
       "      <td>47.638649</td>\n",
       "      <td>-122.356932</td>\n",
       "    </tr>\n",
       "    <tr>\n",
       "      <th>3</th>\n",
       "      <td>Haute Yoga</td>\n",
       "      <td>4a8e262df964a5201d1220e3</td>\n",
       "      <td>Yoga Studio</td>\n",
       "      <td>47.638106</td>\n",
       "      <td>-122.357024</td>\n",
       "    </tr>\n",
       "    <tr>\n",
       "      <th>4</th>\n",
       "      <td>Homegrown</td>\n",
       "      <td>4ccf7165de0f6dcbc05d6463</td>\n",
       "      <td>Sandwich Place</td>\n",
       "      <td>47.638472</td>\n",
       "      <td>-122.357048</td>\n",
       "    </tr>\n",
       "    <tr>\n",
       "      <th>5</th>\n",
       "      <td>Mezcaleria Oaxaca</td>\n",
       "      <td>4e8a6bdfcc215b0368100cb8</td>\n",
       "      <td>Mexican Restaurant</td>\n",
       "      <td>47.637899</td>\n",
       "      <td>-122.357230</td>\n",
       "    </tr>\n",
       "    <tr>\n",
       "      <th>6</th>\n",
       "      <td>Damask Tattoo</td>\n",
       "      <td>4bd3782bcaff95218c06d5f0</td>\n",
       "      <td>Cosmetics Shop</td>\n",
       "      <td>47.638626</td>\n",
       "      <td>-122.356702</td>\n",
       "    </tr>\n",
       "    <tr>\n",
       "      <th>7</th>\n",
       "      <td>Queen Anne Farmers Market</td>\n",
       "      <td>4bf5a9164d5f20a1a5dd97fe</td>\n",
       "      <td>Farmers Market</td>\n",
       "      <td>47.637064</td>\n",
       "      <td>-122.357692</td>\n",
       "    </tr>\n",
       "    <tr>\n",
       "      <th>8</th>\n",
       "      <td>Caffe Ladro</td>\n",
       "      <td>4244a600f964a5206e201fe3</td>\n",
       "      <td>Café</td>\n",
       "      <td>47.638644</td>\n",
       "      <td>-122.357090</td>\n",
       "    </tr>\n",
       "    <tr>\n",
       "      <th>9</th>\n",
       "      <td>Bite Box</td>\n",
       "      <td>5839ff83d7b47337a00eb8ca</td>\n",
       "      <td>Bistro</td>\n",
       "      <td>47.639423</td>\n",
       "      <td>-122.361439</td>\n",
       "    </tr>\n",
       "  </tbody>\n",
       "</table>\n",
       "</div>"
      ],
      "text/plain": [
       "                        name                        id          categories  \\\n",
       "0         Blue Highway Games  4b107d07f964a5208e7123e3    Toy / Game Store   \n",
       "1                  Eden Hill  55fb84ad498ef87ed7839f63          Restaurant   \n",
       "2         How To Cook A Wolf  49e82bc3f964a5204a651fe3  Italian Restaurant   \n",
       "3                 Haute Yoga  4a8e262df964a5201d1220e3         Yoga Studio   \n",
       "4                  Homegrown  4ccf7165de0f6dcbc05d6463      Sandwich Place   \n",
       "5          Mezcaleria Oaxaca  4e8a6bdfcc215b0368100cb8  Mexican Restaurant   \n",
       "6              Damask Tattoo  4bd3782bcaff95218c06d5f0      Cosmetics Shop   \n",
       "7  Queen Anne Farmers Market  4bf5a9164d5f20a1a5dd97fe      Farmers Market   \n",
       "8                Caffe Ladro  4244a600f964a5206e201fe3                Café   \n",
       "9                   Bite Box  5839ff83d7b47337a00eb8ca              Bistro   \n",
       "\n",
       "         lat         lng  \n",
       "0  47.638564 -122.357133  \n",
       "1  47.638698 -122.357034  \n",
       "2  47.638649 -122.356932  \n",
       "3  47.638106 -122.357024  \n",
       "4  47.638472 -122.357048  \n",
       "5  47.637899 -122.357230  \n",
       "6  47.638626 -122.356702  \n",
       "7  47.637064 -122.357692  \n",
       "8  47.638644 -122.357090  \n",
       "9  47.639423 -122.361439  "
      ]
     },
     "execution_count": 28,
     "metadata": {},
     "output_type": "execute_result"
    }
   ],
   "source": [
    "qa_nearby_venues['venue.categories'] = qa_nearby_venues.apply(get_category_type, axis=1)\n",
    "qa_nearby_venues.columns = [col.split('.')[-1] for col in qa_nearby_venues.columns]\n",
    "\n",
    "qa_nearby_venues.head(10)"
   ]
  },
  {
   "cell_type": "code",
   "execution_count": 29,
   "metadata": {},
   "outputs": [
    {
     "name": "stdout",
     "output_type": "stream",
     "text": [
      "<class 'pandas.core.frame.DataFrame'>\n",
      "RangeIndex: 52 entries, 0 to 51\n",
      "Data columns (total 5 columns):\n",
      "name          52 non-null object\n",
      "id            52 non-null object\n",
      "categories    52 non-null object\n",
      "lat           52 non-null float64\n",
      "lng           52 non-null float64\n",
      "dtypes: float64(2), object(3)\n",
      "memory usage: 2.1+ KB\n"
     ]
    }
   ],
   "source": [
    "qa_nearby_venues.info()"
   ]
  },
  {
   "cell_type": "markdown",
   "metadata": {},
   "source": [
    "50 venues around the area of Queen Anne."
   ]
  },
  {
   "cell_type": "code",
   "execution_count": 30,
   "metadata": {},
   "outputs": [
    {
     "data": {
      "text/html": [
       "<div style=\"width:100%;\"><div style=\"position:relative;width:100%;height:0;padding-bottom:60%;\"><iframe src=\"data:text/html;charset=utf-8;base64,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\" style=\"position:absolute;width:100%;height:100%;left:0;top:0;border:none !important;\" allowfullscreen webkitallowfullscreen mozallowfullscreen></iframe></div></div>"
      ],
      "text/plain": [
       "<folium.folium.Map at 0x11b5fa4e0>"
      ]
     },
     "execution_count": 30,
     "metadata": {},
     "output_type": "execute_result"
    }
   ],
   "source": [
    "#Generate map centered around address\n",
    "qa_venues_map = folium.Map(location=[qa_lat, qa_lng], zoom_start=13)\n",
    "\n",
    "#red marker added for main location\n",
    "folium.features.CircleMarker(\n",
    "    [qa_lat,qa_lng],\n",
    "    radius=10,\n",
    "    color='red',\n",
    "    popup='Queen Anne',\n",
    "    fill=True,\n",
    "    fill_color= 'red',\n",
    "    fill_opacity = 0.6\n",
    ").add_to(qa_venues_map)\n",
    "\n",
    "#blue markers for search results\n",
    "for lat, lng, label in zip(qa_nearby_venues.lat, qa_nearby_venues.lng, qa_nearby_venues.categories):\n",
    "    folium.features.CircleMarker(\n",
    "        [lat, lng],\n",
    "        radius = 5,\n",
    "        color='blue',\n",
    "        popup=label,\n",
    "        fill=True,\n",
    "        fill_color='blue',\n",
    "        fill_opacity=0.6\n",
    "    ).add_to(qa_venues_map)\n",
    "    \n",
    "qa_venues_map"
   ]
  },
  {
   "cell_type": "markdown",
   "metadata": {},
   "source": [
    "### Explore Queen Anne"
   ]
  },
  {
   "cell_type": "code",
   "execution_count": 31,
   "metadata": {},
   "outputs": [
    {
     "data": {
      "text/plain": [
       "40"
      ]
     },
     "execution_count": 31,
     "metadata": {},
     "output_type": "execute_result"
    }
   ],
   "source": [
    "qa_unique = qa_nearby_venues['categories'].unique()\n",
    "qa_nearby_venues['categories'].nunique()"
   ]
  },
  {
   "cell_type": "markdown",
   "metadata": {},
   "source": [
    "Queen Anne has 39 different types of venue."
   ]
  },
  {
   "cell_type": "code",
   "execution_count": 32,
   "metadata": {},
   "outputs": [
    {
     "name": "stdout",
     "output_type": "stream",
     "text": [
      "Queen Anne and Wicker Parker have:  \n",
      " ['Italian Restaurant', 'Yoga Studio', 'Mexican Restaurant', 'Cosmetics Shop', 'Farmers Market', 'Bakery', 'Coffee Shop', 'Wine Shop', 'Frozen Yogurt Shop', 'Dive Bar', 'Gym / Fitness Center', 'Pizza Place', 'Gourmet Shop', 'Pharmacy', 'Mediterranean Restaurant', 'Spa', 'Convenience Store', 'Art Gallery']\n",
      "\n",
      "\n",
      "Queen Anne have:  \n",
      " ['Toy / Game Store', 'Restaurant', 'Sandwich Place', 'Café', 'Bistro', 'Nail Salon', 'Grocery Store', 'Market', 'Thai Restaurant', 'Smoothie Shop', 'Music Venue', 'American Restaurant', 'Paper / Office Supplies Store', 'Pet Store', 'Pub', 'Cupcake Shop', 'Baseball Field', 'Seafood Restaurant', 'Bus Stop', 'Kids Store', 'Playground', 'Performing Arts Venue']\n",
      "\n",
      "\n",
      "Wicker Park have:  \n",
      " ['Diner', 'Taco Place', 'Speakeasy', 'Park', 'Donut Shop', 'Bookstore', 'Ice Cream Shop', 'Video Game Store', 'Greek Restaurant', 'Accessories Store', 'Boutique', 'French Restaurant', 'Vegetarian / Vegan Restaurant', 'Bar', 'Bike Shop', 'Breakfast Spot', 'Beer Bar', 'Falafel Restaurant', 'Butcher', 'Lounge', 'Korean Restaurant', 'Gym', 'Sporting Goods Shop', 'Flower Shop', 'Shoe Store', 'Sushi Restaurant', 'Outdoors & Recreation', 'Ramen Restaurant', 'Thrift / Vintage Store', 'Argentinian Restaurant', 'Clothing Store', 'Dessert Shop', 'Hotel', 'Leather Goods Store', 'Optical Shop', 'Tea Room', 'Rock Club', 'Burger Joint', 'New American Restaurant', 'Nightclub', 'Salon / Barbershop', 'Hostel', 'Middle Eastern Restaurant', 'BBQ Joint', 'Pet Service', 'Indian Restaurant', 'Cajun / Creole Restaurant', 'Cocktail Bar', 'Bagel Shop', 'Fast Food Restaurant', 'Shipping Store', 'Food Truck', \"Women's Store\", 'Furniture / Home Store', 'Bed & Breakfast']\n"
     ]
    }
   ],
   "source": [
    "qa_wp_same = []\n",
    "qa_has = []\n",
    "for x in qa_unique:\n",
    "    if x in wp_unique:\n",
    "        qa_wp_same.append(x)\n",
    "    else:\n",
    "        qa_has.append(x)\n",
    "print('Queen Anne and Wicker Parker have: ', '\\n', qa_wp_same)\n",
    "print('\\n')\n",
    "print('Queen Anne have: ', '\\n', qa_has)\n",
    "\n",
    "wp_has = []\n",
    "for x in wp_unique:\n",
    "    if x in qa_unique:\n",
    "        continue\n",
    "    else:\n",
    "        wp_has.append(x)\n",
    "print('\\n')\n",
    "print('Wicker Park have: ', '\\n', wp_has)"
   ]
  },
  {
   "cell_type": "markdown",
   "metadata": {},
   "source": [
    "Above we can see that there are a lot more different types of venues in the Wicker Park area compared to Queen Anne. Although some are the same types of venue except with different names (e.g. Nail Salon and Salon/Barbershop), there are a lot that are simply different. This suggests there are more variety in Wicker Park compared to Queen Anne."
   ]
  },
  {
   "cell_type": "code",
   "execution_count": 33,
   "metadata": {},
   "outputs": [
    {
     "data": {
      "text/plain": [
       "categories\n",
       "Pizza Place           3\n",
       "Bus Stop              2\n",
       "Mexican Restaurant    2\n",
       "Cosmetics Shop        2\n",
       "Coffee Shop           2\n",
       "Playground            2\n",
       "Restaurant            2\n",
       "Yoga Studio           2\n",
       "Bakery                2\n",
       "Thai Restaurant       2\n",
       "Name: name, dtype: int64"
      ]
     },
     "execution_count": 33,
     "metadata": {},
     "output_type": "execute_result"
    }
   ],
   "source": [
    "qa_nearby_venues.groupby('categories').count()['name'].sort_values(ascending=False).head(10)"
   ]
  },
  {
   "cell_type": "markdown",
   "metadata": {},
   "source": [
    "The categories of venues are listed above from most frequent to list. Here we list the top 10."
   ]
  },
  {
   "cell_type": "markdown",
   "metadata": {},
   "source": [
    "### Queen Anne Price Group and Likes"
   ]
  },
  {
   "cell_type": "markdown",
   "metadata": {},
   "source": [
    "Again, we will check out the price group and likes of 10 venues near Queen Anne."
   ]
  },
  {
   "cell_type": "code",
   "execution_count": 34,
   "metadata": {},
   "outputs": [],
   "source": [
    "qa_venue_info = get_venue_info(qa_nearby_venues['id'])"
   ]
  },
  {
   "cell_type": "code",
   "execution_count": 35,
   "metadata": {},
   "outputs": [
    {
     "data": {
      "text/plain": [
       "[['Blue Highway Games', 'Not Available', 36],\n",
       " ['Eden Hill', {'tier': 2, 'message': 'Moderate', 'currency': '$'}, 29],\n",
       " ['How To Cook A Wolf',\n",
       "  {'tier': 2, 'message': 'Moderate', 'currency': '$'},\n",
       "  137],\n",
       " ['Haute Yoga', 'Not Available', 15],\n",
       " ['Homegrown', {'tier': 2, 'message': 'Moderate', 'currency': '$'}, 70],\n",
       " ['Mezcaleria Oaxaca',\n",
       "  {'tier': 2, 'message': 'Moderate', 'currency': '$'},\n",
       "  86],\n",
       " ['Damask Tattoo', 'Not Available', 12],\n",
       " ['Queen Anne Farmers Market', 'Not Available', 39],\n",
       " ['Caffe Ladro', {'tier': 2, 'message': 'Moderate', 'currency': '$'}, 41],\n",
       " ['Bite Box', 'Not Available', 7]]"
      ]
     },
     "execution_count": 35,
     "metadata": {},
     "output_type": "execute_result"
    }
   ],
   "source": [
    "qa_venue_info"
   ]
  },
  {
   "cell_type": "code",
   "execution_count": 36,
   "metadata": {},
   "outputs": [
    {
     "data": {
      "text/html": [
       "<div>\n",
       "<style scoped>\n",
       "    .dataframe tbody tr th:only-of-type {\n",
       "        vertical-align: middle;\n",
       "    }\n",
       "\n",
       "    .dataframe tbody tr th {\n",
       "        vertical-align: top;\n",
       "    }\n",
       "\n",
       "    .dataframe thead th {\n",
       "        text-align: right;\n",
       "    }\n",
       "</style>\n",
       "<table border=\"1\" class=\"dataframe\">\n",
       "  <thead>\n",
       "    <tr style=\"text-align: right;\">\n",
       "      <th></th>\n",
       "      <th>name</th>\n",
       "      <th>price_tier</th>\n",
       "      <th>likes</th>\n",
       "    </tr>\n",
       "  </thead>\n",
       "  <tbody>\n",
       "    <tr>\n",
       "      <th>0</th>\n",
       "      <td>Blue Highway Games</td>\n",
       "      <td>Not Available</td>\n",
       "      <td>36</td>\n",
       "    </tr>\n",
       "    <tr>\n",
       "      <th>1</th>\n",
       "      <td>Eden Hill</td>\n",
       "      <td>{'tier': 2, 'message': 'Moderate', 'currency':...</td>\n",
       "      <td>29</td>\n",
       "    </tr>\n",
       "    <tr>\n",
       "      <th>2</th>\n",
       "      <td>How To Cook A Wolf</td>\n",
       "      <td>{'tier': 2, 'message': 'Moderate', 'currency':...</td>\n",
       "      <td>137</td>\n",
       "    </tr>\n",
       "    <tr>\n",
       "      <th>3</th>\n",
       "      <td>Haute Yoga</td>\n",
       "      <td>Not Available</td>\n",
       "      <td>15</td>\n",
       "    </tr>\n",
       "    <tr>\n",
       "      <th>4</th>\n",
       "      <td>Homegrown</td>\n",
       "      <td>{'tier': 2, 'message': 'Moderate', 'currency':...</td>\n",
       "      <td>70</td>\n",
       "    </tr>\n",
       "    <tr>\n",
       "      <th>5</th>\n",
       "      <td>Mezcaleria Oaxaca</td>\n",
       "      <td>{'tier': 2, 'message': 'Moderate', 'currency':...</td>\n",
       "      <td>86</td>\n",
       "    </tr>\n",
       "    <tr>\n",
       "      <th>6</th>\n",
       "      <td>Damask Tattoo</td>\n",
       "      <td>Not Available</td>\n",
       "      <td>12</td>\n",
       "    </tr>\n",
       "    <tr>\n",
       "      <th>7</th>\n",
       "      <td>Queen Anne Farmers Market</td>\n",
       "      <td>Not Available</td>\n",
       "      <td>39</td>\n",
       "    </tr>\n",
       "    <tr>\n",
       "      <th>8</th>\n",
       "      <td>Caffe Ladro</td>\n",
       "      <td>{'tier': 2, 'message': 'Moderate', 'currency':...</td>\n",
       "      <td>41</td>\n",
       "    </tr>\n",
       "    <tr>\n",
       "      <th>9</th>\n",
       "      <td>Bite Box</td>\n",
       "      <td>Not Available</td>\n",
       "      <td>7</td>\n",
       "    </tr>\n",
       "  </tbody>\n",
       "</table>\n",
       "</div>"
      ],
      "text/plain": [
       "                        name  \\\n",
       "0         Blue Highway Games   \n",
       "1                  Eden Hill   \n",
       "2         How To Cook A Wolf   \n",
       "3                 Haute Yoga   \n",
       "4                  Homegrown   \n",
       "5          Mezcaleria Oaxaca   \n",
       "6              Damask Tattoo   \n",
       "7  Queen Anne Farmers Market   \n",
       "8                Caffe Ladro   \n",
       "9                   Bite Box   \n",
       "\n",
       "                                          price_tier  likes  \n",
       "0                                      Not Available     36  \n",
       "1  {'tier': 2, 'message': 'Moderate', 'currency':...     29  \n",
       "2  {'tier': 2, 'message': 'Moderate', 'currency':...    137  \n",
       "3                                      Not Available     15  \n",
       "4  {'tier': 2, 'message': 'Moderate', 'currency':...     70  \n",
       "5  {'tier': 2, 'message': 'Moderate', 'currency':...     86  \n",
       "6                                      Not Available     12  \n",
       "7                                      Not Available     39  \n",
       "8  {'tier': 2, 'message': 'Moderate', 'currency':...     41  \n",
       "9                                      Not Available      7  "
      ]
     },
     "execution_count": 36,
     "metadata": {},
     "output_type": "execute_result"
    }
   ],
   "source": [
    "qa_df = pd.DataFrame(qa_venue_info, columns=['name', 'price_tier', 'likes'])\n",
    "qa_df    "
   ]
  },
  {
   "cell_type": "code",
   "execution_count": 37,
   "metadata": {},
   "outputs": [
    {
     "data": {
      "text/html": [
       "<div>\n",
       "<style scoped>\n",
       "    .dataframe tbody tr th:only-of-type {\n",
       "        vertical-align: middle;\n",
       "    }\n",
       "\n",
       "    .dataframe tbody tr th {\n",
       "        vertical-align: top;\n",
       "    }\n",
       "\n",
       "    .dataframe thead th {\n",
       "        text-align: right;\n",
       "    }\n",
       "</style>\n",
       "<table border=\"1\" class=\"dataframe\">\n",
       "  <thead>\n",
       "    <tr style=\"text-align: right;\">\n",
       "      <th></th>\n",
       "      <th>name</th>\n",
       "      <th>price_tier</th>\n",
       "      <th>likes</th>\n",
       "    </tr>\n",
       "  </thead>\n",
       "  <tbody>\n",
       "    <tr>\n",
       "      <th>2</th>\n",
       "      <td>How To Cook A Wolf</td>\n",
       "      <td>Moderate</td>\n",
       "      <td>137</td>\n",
       "    </tr>\n",
       "    <tr>\n",
       "      <th>5</th>\n",
       "      <td>Mezcaleria Oaxaca</td>\n",
       "      <td>Moderate</td>\n",
       "      <td>86</td>\n",
       "    </tr>\n",
       "    <tr>\n",
       "      <th>4</th>\n",
       "      <td>Homegrown</td>\n",
       "      <td>Moderate</td>\n",
       "      <td>70</td>\n",
       "    </tr>\n",
       "    <tr>\n",
       "      <th>8</th>\n",
       "      <td>Caffe Ladro</td>\n",
       "      <td>Moderate</td>\n",
       "      <td>41</td>\n",
       "    </tr>\n",
       "    <tr>\n",
       "      <th>7</th>\n",
       "      <td>Queen Anne Farmers Market</td>\n",
       "      <td>None</td>\n",
       "      <td>39</td>\n",
       "    </tr>\n",
       "    <tr>\n",
       "      <th>0</th>\n",
       "      <td>Blue Highway Games</td>\n",
       "      <td>None</td>\n",
       "      <td>36</td>\n",
       "    </tr>\n",
       "    <tr>\n",
       "      <th>1</th>\n",
       "      <td>Eden Hill</td>\n",
       "      <td>Moderate</td>\n",
       "      <td>29</td>\n",
       "    </tr>\n",
       "    <tr>\n",
       "      <th>3</th>\n",
       "      <td>Haute Yoga</td>\n",
       "      <td>None</td>\n",
       "      <td>15</td>\n",
       "    </tr>\n",
       "    <tr>\n",
       "      <th>6</th>\n",
       "      <td>Damask Tattoo</td>\n",
       "      <td>None</td>\n",
       "      <td>12</td>\n",
       "    </tr>\n",
       "    <tr>\n",
       "      <th>9</th>\n",
       "      <td>Bite Box</td>\n",
       "      <td>None</td>\n",
       "      <td>7</td>\n",
       "    </tr>\n",
       "  </tbody>\n",
       "</table>\n",
       "</div>"
      ],
      "text/plain": [
       "                        name price_tier  likes\n",
       "2         How To Cook A Wolf   Moderate    137\n",
       "5          Mezcaleria Oaxaca   Moderate     86\n",
       "4                  Homegrown   Moderate     70\n",
       "8                Caffe Ladro   Moderate     41\n",
       "7  Queen Anne Farmers Market       None     39\n",
       "0         Blue Highway Games       None     36\n",
       "1                  Eden Hill   Moderate     29\n",
       "3                 Haute Yoga       None     15\n",
       "6              Damask Tattoo       None     12\n",
       "9                   Bite Box       None      7"
      ]
     },
     "execution_count": 37,
     "metadata": {},
     "output_type": "execute_result"
    }
   ],
   "source": [
    "qa_df['price_tier'] = qa_df.apply(get_price_tier, axis=1)\n",
    "qa_df.sort_values('likes', ascending=False)"
   ]
  },
  {
   "cell_type": "markdown",
   "metadata": {},
   "source": [
    "Queen Anne doesn't seem to have as many likes at their venues compared to Wicker Park. Also, there are a lot more activity venues that do not have a labeled price tier since they are not restaurants."
   ]
  },
  {
   "cell_type": "markdown",
   "metadata": {},
   "source": [
    "### Import Capitol Hill in Seattle Data From Foursquare API"
   ]
  },
  {
   "cell_type": "code",
   "execution_count": 14,
   "metadata": {},
   "outputs": [
    {
     "name": "stdout",
     "output_type": "stream",
     "text": [
      "Capitol Hill coordinates :  47.6238307 -122.318368\n"
     ]
    }
   ],
   "source": [
    "address = 'Capitol Hill, Seattle, WA'\n",
    "\n",
    "ch_geolocator = Nominatim(user_agent='foursquare_agent')\n",
    "ch_location = ch_geolocator.geocode(address)\n",
    "ch_lat = ch_location.latitude\n",
    "ch_lng = ch_location.longitude\n",
    "\n",
    "print('Capitol Hill coordinates : ', ch_lat, ch_lng)"
   ]
  },
  {
   "cell_type": "code",
   "execution_count": 15,
   "metadata": {},
   "outputs": [],
   "source": [
    "ch_url = 'https://api.foursquare.com/v2/venues/explore?client_id={}&client_secret={}&ll={},{}&v={}&radius={}&limit={}'.format(\n",
    "        CLIENT_ID,\n",
    "        CLIENT_SECRET,\n",
    "        ch_lat,\n",
    "        ch_lng,\n",
    "        VERSION,\n",
    "        radius,\n",
    "        LIMIT\n",
    "        )"
   ]
  },
  {
   "cell_type": "code",
   "execution_count": 40,
   "metadata": {},
   "outputs": [],
   "source": [
    "ch_results = requests.get(ch_url).json()"
   ]
  },
  {
   "cell_type": "code",
   "execution_count": 62,
   "metadata": {},
   "outputs": [
    {
     "data": {
      "text/html": [
       "<div>\n",
       "<style scoped>\n",
       "    .dataframe tbody tr th:only-of-type {\n",
       "        vertical-align: middle;\n",
       "    }\n",
       "\n",
       "    .dataframe tbody tr th {\n",
       "        vertical-align: top;\n",
       "    }\n",
       "\n",
       "    .dataframe thead th {\n",
       "        text-align: right;\n",
       "    }\n",
       "</style>\n",
       "<table border=\"1\" class=\"dataframe\">\n",
       "  <thead>\n",
       "    <tr style=\"text-align: right;\">\n",
       "      <th></th>\n",
       "      <th>venue.name</th>\n",
       "      <th>venue.id</th>\n",
       "      <th>venue.categories</th>\n",
       "      <th>venue.location.lat</th>\n",
       "      <th>venue.location.lng</th>\n",
       "    </tr>\n",
       "  </thead>\n",
       "  <tbody>\n",
       "    <tr>\n",
       "      <th>0</th>\n",
       "      <td>Espresso Vivace</td>\n",
       "      <td>48e4b935f964a52026521fe3</td>\n",
       "      <td>[{'id': '4bf58dd8d48988d1e0931735', 'name': 'C...</td>\n",
       "      <td>47.623667</td>\n",
       "      <td>-122.320692</td>\n",
       "    </tr>\n",
       "    <tr>\n",
       "      <th>1</th>\n",
       "      <td>CorePower Yoga</td>\n",
       "      <td>51b5d221498eead65cd90978</td>\n",
       "      <td>[{'id': '4bf58dd8d48988d102941735', 'name': 'Y...</td>\n",
       "      <td>47.623323</td>\n",
       "      <td>-122.321225</td>\n",
       "    </tr>\n",
       "    <tr>\n",
       "      <th>2</th>\n",
       "      <td>Altura</td>\n",
       "      <td>4e8bd0f7cc2112f67533b390</td>\n",
       "      <td>[{'id': '4bf58dd8d48988d110941735', 'name': 'I...</td>\n",
       "      <td>47.624763</td>\n",
       "      <td>-122.321103</td>\n",
       "    </tr>\n",
       "    <tr>\n",
       "      <th>3</th>\n",
       "      <td>Witness</td>\n",
       "      <td>52156bbd498eb27e8d0eb520</td>\n",
       "      <td>[{'id': '4bf58dd8d48988d11e941735', 'name': 'C...</td>\n",
       "      <td>47.622339</td>\n",
       "      <td>-122.320962</td>\n",
       "    </tr>\n",
       "    <tr>\n",
       "      <th>4</th>\n",
       "      <td>Boca Restobar &amp; Grill</td>\n",
       "      <td>5a87713c7564f77ddfc281c2</td>\n",
       "      <td>[{'id': '4bf58dd8d48988d107941735', 'name': 'A...</td>\n",
       "      <td>47.622617</td>\n",
       "      <td>-122.320778</td>\n",
       "    </tr>\n",
       "  </tbody>\n",
       "</table>\n",
       "</div>"
      ],
      "text/plain": [
       "              venue.name                  venue.id  \\\n",
       "0        Espresso Vivace  48e4b935f964a52026521fe3   \n",
       "1         CorePower Yoga  51b5d221498eead65cd90978   \n",
       "2                 Altura  4e8bd0f7cc2112f67533b390   \n",
       "3                Witness  52156bbd498eb27e8d0eb520   \n",
       "4  Boca Restobar & Grill  5a87713c7564f77ddfc281c2   \n",
       "\n",
       "                                    venue.categories  venue.location.lat  \\\n",
       "0  [{'id': '4bf58dd8d48988d1e0931735', 'name': 'C...           47.623667   \n",
       "1  [{'id': '4bf58dd8d48988d102941735', 'name': 'Y...           47.623323   \n",
       "2  [{'id': '4bf58dd8d48988d110941735', 'name': 'I...           47.624763   \n",
       "3  [{'id': '4bf58dd8d48988d11e941735', 'name': 'C...           47.622339   \n",
       "4  [{'id': '4bf58dd8d48988d107941735', 'name': 'A...           47.622617   \n",
       "\n",
       "   venue.location.lng  \n",
       "0         -122.320692  \n",
       "1         -122.321225  \n",
       "2         -122.321103  \n",
       "3         -122.320962  \n",
       "4         -122.320778  "
      ]
     },
     "execution_count": 62,
     "metadata": {},
     "output_type": "execute_result"
    }
   ],
   "source": [
    "ch_venues = ch_results['response']['groups'][0]['items']\n",
    "\n",
    "ch_nearby_venues = json_normalize(ch_venues)\n",
    "\n",
    "ch_nearby_venues = ch_nearby_venues.loc[:,filtered_columns]\n",
    "\n",
    "ch_nearby_venues.head()"
   ]
  },
  {
   "cell_type": "code",
   "execution_count": 63,
   "metadata": {},
   "outputs": [
    {
     "data": {
      "text/html": [
       "<div>\n",
       "<style scoped>\n",
       "    .dataframe tbody tr th:only-of-type {\n",
       "        vertical-align: middle;\n",
       "    }\n",
       "\n",
       "    .dataframe tbody tr th {\n",
       "        vertical-align: top;\n",
       "    }\n",
       "\n",
       "    .dataframe thead th {\n",
       "        text-align: right;\n",
       "    }\n",
       "</style>\n",
       "<table border=\"1\" class=\"dataframe\">\n",
       "  <thead>\n",
       "    <tr style=\"text-align: right;\">\n",
       "      <th></th>\n",
       "      <th>name</th>\n",
       "      <th>id</th>\n",
       "      <th>categories</th>\n",
       "      <th>lat</th>\n",
       "      <th>lng</th>\n",
       "    </tr>\n",
       "  </thead>\n",
       "  <tbody>\n",
       "    <tr>\n",
       "      <th>0</th>\n",
       "      <td>Espresso Vivace</td>\n",
       "      <td>48e4b935f964a52026521fe3</td>\n",
       "      <td>Coffee Shop</td>\n",
       "      <td>47.623667</td>\n",
       "      <td>-122.320692</td>\n",
       "    </tr>\n",
       "    <tr>\n",
       "      <th>1</th>\n",
       "      <td>CorePower Yoga</td>\n",
       "      <td>51b5d221498eead65cd90978</td>\n",
       "      <td>Yoga Studio</td>\n",
       "      <td>47.623323</td>\n",
       "      <td>-122.321225</td>\n",
       "    </tr>\n",
       "    <tr>\n",
       "      <th>2</th>\n",
       "      <td>Altura</td>\n",
       "      <td>4e8bd0f7cc2112f67533b390</td>\n",
       "      <td>Italian Restaurant</td>\n",
       "      <td>47.624763</td>\n",
       "      <td>-122.321103</td>\n",
       "    </tr>\n",
       "    <tr>\n",
       "      <th>3</th>\n",
       "      <td>Witness</td>\n",
       "      <td>52156bbd498eb27e8d0eb520</td>\n",
       "      <td>Cocktail Bar</td>\n",
       "      <td>47.622339</td>\n",
       "      <td>-122.320962</td>\n",
       "    </tr>\n",
       "    <tr>\n",
       "      <th>4</th>\n",
       "      <td>Boca Restobar &amp; Grill</td>\n",
       "      <td>5a87713c7564f77ddfc281c2</td>\n",
       "      <td>Argentinian Restaurant</td>\n",
       "      <td>47.622617</td>\n",
       "      <td>-122.320778</td>\n",
       "    </tr>\n",
       "    <tr>\n",
       "      <th>5</th>\n",
       "      <td>Corvus &amp; Co.</td>\n",
       "      <td>5747b464498efe1302c3e268</td>\n",
       "      <td>Cocktail Bar</td>\n",
       "      <td>47.624380</td>\n",
       "      <td>-122.321141</td>\n",
       "    </tr>\n",
       "    <tr>\n",
       "      <th>6</th>\n",
       "      <td>Bait Shop</td>\n",
       "      <td>50bf9b21582ff054194651e8</td>\n",
       "      <td>Bar</td>\n",
       "      <td>47.624595</td>\n",
       "      <td>-122.320861</td>\n",
       "    </tr>\n",
       "    <tr>\n",
       "      <th>7</th>\n",
       "      <td>Poppy</td>\n",
       "      <td>49e3eb68f964a520ec621fe3</td>\n",
       "      <td>Indian Restaurant</td>\n",
       "      <td>47.625015</td>\n",
       "      <td>-122.320749</td>\n",
       "    </tr>\n",
       "    <tr>\n",
       "      <th>8</th>\n",
       "      <td>Lionhead</td>\n",
       "      <td>55ca95a7498e3dfea082b08e</td>\n",
       "      <td>Szechuan Restaurant</td>\n",
       "      <td>47.624881</td>\n",
       "      <td>-122.320824</td>\n",
       "    </tr>\n",
       "    <tr>\n",
       "      <th>9</th>\n",
       "      <td>underU4men</td>\n",
       "      <td>4bb65c6a2f70c9b6b44b8530</td>\n",
       "      <td>Men's Store</td>\n",
       "      <td>47.625361</td>\n",
       "      <td>-122.321453</td>\n",
       "    </tr>\n",
       "  </tbody>\n",
       "</table>\n",
       "</div>"
      ],
      "text/plain": [
       "                    name                        id              categories  \\\n",
       "0        Espresso Vivace  48e4b935f964a52026521fe3             Coffee Shop   \n",
       "1         CorePower Yoga  51b5d221498eead65cd90978             Yoga Studio   \n",
       "2                 Altura  4e8bd0f7cc2112f67533b390      Italian Restaurant   \n",
       "3                Witness  52156bbd498eb27e8d0eb520            Cocktail Bar   \n",
       "4  Boca Restobar & Grill  5a87713c7564f77ddfc281c2  Argentinian Restaurant   \n",
       "5           Corvus & Co.  5747b464498efe1302c3e268            Cocktail Bar   \n",
       "6              Bait Shop  50bf9b21582ff054194651e8                     Bar   \n",
       "7                  Poppy  49e3eb68f964a520ec621fe3       Indian Restaurant   \n",
       "8               Lionhead  55ca95a7498e3dfea082b08e     Szechuan Restaurant   \n",
       "9             underU4men  4bb65c6a2f70c9b6b44b8530             Men's Store   \n",
       "\n",
       "         lat         lng  \n",
       "0  47.623667 -122.320692  \n",
       "1  47.623323 -122.321225  \n",
       "2  47.624763 -122.321103  \n",
       "3  47.622339 -122.320962  \n",
       "4  47.622617 -122.320778  \n",
       "5  47.624380 -122.321141  \n",
       "6  47.624595 -122.320861  \n",
       "7  47.625015 -122.320749  \n",
       "8  47.624881 -122.320824  \n",
       "9  47.625361 -122.321453  "
      ]
     },
     "execution_count": 63,
     "metadata": {},
     "output_type": "execute_result"
    }
   ],
   "source": [
    "ch_nearby_venues['venue.categories'] = ch_nearby_venues.apply(get_category_type,axis = 1)\n",
    "ch_nearby_venues.columns = [col.split('.')[-1] for col in ch_nearby_venues.columns]\n",
    "ch_nearby_venues.head(10)"
   ]
  },
  {
   "cell_type": "code",
   "execution_count": 64,
   "metadata": {
    "scrolled": true
   },
   "outputs": [
    {
     "name": "stdout",
     "output_type": "stream",
     "text": [
      "<class 'pandas.core.frame.DataFrame'>\n",
      "RangeIndex: 61 entries, 0 to 60\n",
      "Data columns (total 5 columns):\n",
      "name          61 non-null object\n",
      "id            61 non-null object\n",
      "categories    61 non-null object\n",
      "lat           61 non-null float64\n",
      "lng           61 non-null float64\n",
      "dtypes: float64(2), object(3)\n",
      "memory usage: 2.5+ KB\n"
     ]
    }
   ],
   "source": [
    "ch_nearby_venues.info()"
   ]
  },
  {
   "cell_type": "markdown",
   "metadata": {},
   "source": [
    "62 venues for the area by Capitol Hill."
   ]
  },
  {
   "cell_type": "code",
   "execution_count": 65,
   "metadata": {},
   "outputs": [],
   "source": [
    "ch_nearby_venues_map = ch_nearby_venues[0:10]"
   ]
  },
  {
   "cell_type": "markdown",
   "metadata": {},
   "source": [
    "62 total venues came back for the Capitol Hill area."
   ]
  },
  {
   "cell_type": "code",
   "execution_count": 79,
   "metadata": {},
   "outputs": [
    {
     "data": {
      "text/html": [
       "<div style=\"width:100%;\"><div style=\"position:relative;width:100%;height:0;padding-bottom:60%;\"><iframe src=\"data:text/html;charset=utf-8;base64,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\" style=\"position:absolute;width:100%;height:100%;left:0;top:0;border:none !important;\" allowfullscreen webkitallowfullscreen mozallowfullscreen></iframe></div></div>"
      ],
      "text/plain": [
       "<folium.folium.Map at 0x11bf5b438>"
      ]
     },
     "execution_count": 79,
     "metadata": {},
     "output_type": "execute_result"
    }
   ],
   "source": [
    "#Generate map centered around address\n",
    "ch_venues_map = folium.Map(location=[ch_lat, ch_lng], zoom_start=13)\n",
    "\n",
    "#red marker added for main location\n",
    "folium.features.CircleMarker(\n",
    "    [ch_lat,ch_lng],\n",
    "    radius=10,\n",
    "    color='red',\n",
    "    popup='Capitol Hill',\n",
    "    fill=True,\n",
    "    fill_color= 'red',\n",
    "    fill_opacity = 0.6\n",
    ").add_to(ch_venues_map)\n",
    "\n",
    "#blue markers for search results\n",
    "for lat, lng, label in zip(ch_nearby_venues_map.lat, ch_nearby_venues_map.lng, ch_nearby_venues_map.categories):\n",
    "    folium.features.CircleMarker(\n",
    "        [lat, lng],\n",
    "        radius = 5,\n",
    "        color='blue',\n",
    "        popup=label,\n",
    "        fill=True,\n",
    "        fill_color='blue',\n",
    "        fill_opacity=0.6\n",
    "    ).add_to(ch_venues_map)\n",
    "    \n",
    "ch_venues_map"
   ]
  },
  {
   "cell_type": "markdown",
   "metadata": {},
   "source": [
    "### Explore Capitol Hill"
   ]
  },
  {
   "cell_type": "code",
   "execution_count": 46,
   "metadata": {},
   "outputs": [
    {
     "data": {
      "text/plain": [
       "43"
      ]
     },
     "execution_count": 46,
     "metadata": {},
     "output_type": "execute_result"
    }
   ],
   "source": [
    "ch_unique = ch_nearby_venues['categories'].unique()\n",
    "ch_nearby_venues['categories'].nunique()"
   ]
  },
  {
   "cell_type": "markdown",
   "metadata": {},
   "source": [
    "There are 44 unique types of venues around Capitol Hill."
   ]
  },
  {
   "cell_type": "code",
   "execution_count": 47,
   "metadata": {},
   "outputs": [
    {
     "name": "stdout",
     "output_type": "stream",
     "text": [
      "Capitol Hill and Wicker Parker have:  \n",
      " ['Coffee Shop', 'Yoga Studio', 'Italian Restaurant', 'Cocktail Bar', 'Argentinian Restaurant', 'Bar', 'Indian Restaurant', 'Frozen Yogurt Shop', 'Thrift / Vintage Store', 'Gym / Fitness Center', 'Bookstore', 'Salon / Barbershop', 'Taco Place', 'Gym', 'Spa', 'Lounge', 'Bakery', 'Pharmacy', 'Wine Shop', 'Mexican Restaurant', 'Bed & Breakfast', 'Furniture / Home Store', 'Greek Restaurant', 'Korean Restaurant', 'Clothing Store']\n",
      "\n",
      "\n",
      "Capitol Hill have:  \n",
      " ['Szechuan Restaurant', \"Men's Store\", 'Noodle House', 'Massage Studio', 'Thai Restaurant', 'American Restaurant', 'Record Shop', 'Restaurant', 'Pet Store', 'Seafood Restaurant', 'Southern / Soul Food Restaurant', 'Pub', 'Café', 'Marijuana Dispensary', 'Gift Shop', 'Ethiopian Restaurant', 'Japanese Restaurant', 'ATM']\n",
      "\n",
      "\n",
      "Wicker Park have:  \n",
      " ['Diner', 'Speakeasy', 'Park', 'Donut Shop', 'Ice Cream Shop', 'Video Game Store', 'Pizza Place', 'Accessories Store', 'Boutique', 'Farmers Market', 'French Restaurant', 'Vegetarian / Vegan Restaurant', 'Bike Shop', 'Breakfast Spot', 'Beer Bar', 'Falafel Restaurant', 'Butcher', 'Sporting Goods Shop', 'Flower Shop', 'Shoe Store', 'Sushi Restaurant', 'Outdoors & Recreation', 'Ramen Restaurant', 'Art Gallery', 'Dessert Shop', 'Hotel', 'Leather Goods Store', 'Optical Shop', 'Tea Room', 'Rock Club', 'Burger Joint', 'New American Restaurant', 'Gourmet Shop', 'Nightclub', 'Hostel', 'Middle Eastern Restaurant', 'BBQ Joint', 'Cosmetics Shop', 'Pet Service', 'Cajun / Creole Restaurant', 'Convenience Store', 'Mediterranean Restaurant', 'Dive Bar', 'Bagel Shop', 'Fast Food Restaurant', 'Shipping Store', 'Food Truck', \"Women's Store\"]\n"
     ]
    }
   ],
   "source": [
    "ch_wp_same = []\n",
    "ch_has = []\n",
    "for x in ch_unique:\n",
    "    if x in wp_unique:\n",
    "        ch_wp_same.append(x)\n",
    "    else:\n",
    "        ch_has.append(x)\n",
    "print('Capitol Hill and Wicker Parker have: ', '\\n', ch_wp_same)\n",
    "print('\\n')\n",
    "print('Capitol Hill have: ', '\\n', ch_has)\n",
    "\n",
    "wp_has = []\n",
    "for x in wp_unique:\n",
    "    if x in ch_unique:\n",
    "        continue\n",
    "    else:\n",
    "        wp_has.append(x)\n",
    "print('\\n')\n",
    "print('Wicker Park have: ', '\\n', wp_has)"
   ]
  },
  {
   "cell_type": "markdown",
   "metadata": {},
   "source": [
    "Similar to the comparison between Wicker Park and Queen Anne, Capitol Hill has less variety of venues than Wicker Park. Some are the same type with different names (e.g. Pet Store and Pet Service), but Wicker Park still has more."
   ]
  },
  {
   "cell_type": "markdown",
   "metadata": {},
   "source": [
    "### Capitol Hill Price Group and Likes"
   ]
  },
  {
   "cell_type": "markdown",
   "metadata": {},
   "source": [
    "Let's have a look at the venue information of the places in Capitol Hill!"
   ]
  },
  {
   "cell_type": "code",
   "execution_count": 48,
   "metadata": {},
   "outputs": [],
   "source": [
    "ch_venue_info = get_venue_info(ch_nearby_venues['id'])"
   ]
  },
  {
   "cell_type": "code",
   "execution_count": 49,
   "metadata": {},
   "outputs": [
    {
     "data": {
      "text/plain": [
       "[['Espresso Vivace', {'tier': 1, 'message': 'Cheap', 'currency': '$'}, 380],\n",
       " ['CorePower Yoga', 'Not Available', 31],\n",
       " ['Altura', {'tier': 4, 'message': 'Very Expensive', 'currency': '$'}, 80],\n",
       " ['Witness', {'tier': 2, 'message': 'Moderate', 'currency': '$'}, 210],\n",
       " ['Boca Restobar & Grill',\n",
       "  {'tier': 2, 'message': 'Moderate', 'currency': '$'},\n",
       "  10],\n",
       " ['Corvus & Co.', {'tier': 3, 'message': 'Expensive', 'currency': '$'}, 45],\n",
       " ['Bait Shop', {'tier': 2, 'message': 'Moderate', 'currency': '$'}, 135],\n",
       " ['Poppy', {'tier': 3, 'message': 'Expensive', 'currency': '$'}, 195],\n",
       " ['Lionhead', 'Not Available', 51],\n",
       " ['underU4men', 'Not Available', 14]]"
      ]
     },
     "execution_count": 49,
     "metadata": {},
     "output_type": "execute_result"
    }
   ],
   "source": [
    "ch_venue_info"
   ]
  },
  {
   "cell_type": "code",
   "execution_count": 51,
   "metadata": {},
   "outputs": [
    {
     "data": {
      "text/html": [
       "<div>\n",
       "<style scoped>\n",
       "    .dataframe tbody tr th:only-of-type {\n",
       "        vertical-align: middle;\n",
       "    }\n",
       "\n",
       "    .dataframe tbody tr th {\n",
       "        vertical-align: top;\n",
       "    }\n",
       "\n",
       "    .dataframe thead th {\n",
       "        text-align: right;\n",
       "    }\n",
       "</style>\n",
       "<table border=\"1\" class=\"dataframe\">\n",
       "  <thead>\n",
       "    <tr style=\"text-align: right;\">\n",
       "      <th></th>\n",
       "      <th>name</th>\n",
       "      <th>price_tier</th>\n",
       "      <th>likes</th>\n",
       "    </tr>\n",
       "  </thead>\n",
       "  <tbody>\n",
       "    <tr>\n",
       "      <th>0</th>\n",
       "      <td>Espresso Vivace</td>\n",
       "      <td>Cheap</td>\n",
       "      <td>380</td>\n",
       "    </tr>\n",
       "    <tr>\n",
       "      <th>3</th>\n",
       "      <td>Witness</td>\n",
       "      <td>Moderate</td>\n",
       "      <td>210</td>\n",
       "    </tr>\n",
       "    <tr>\n",
       "      <th>7</th>\n",
       "      <td>Poppy</td>\n",
       "      <td>Expensive</td>\n",
       "      <td>195</td>\n",
       "    </tr>\n",
       "    <tr>\n",
       "      <th>6</th>\n",
       "      <td>Bait Shop</td>\n",
       "      <td>Moderate</td>\n",
       "      <td>135</td>\n",
       "    </tr>\n",
       "    <tr>\n",
       "      <th>2</th>\n",
       "      <td>Altura</td>\n",
       "      <td>Very Expensive</td>\n",
       "      <td>80</td>\n",
       "    </tr>\n",
       "    <tr>\n",
       "      <th>8</th>\n",
       "      <td>Lionhead</td>\n",
       "      <td>None</td>\n",
       "      <td>51</td>\n",
       "    </tr>\n",
       "    <tr>\n",
       "      <th>5</th>\n",
       "      <td>Corvus &amp; Co.</td>\n",
       "      <td>Expensive</td>\n",
       "      <td>45</td>\n",
       "    </tr>\n",
       "    <tr>\n",
       "      <th>1</th>\n",
       "      <td>CorePower Yoga</td>\n",
       "      <td>None</td>\n",
       "      <td>31</td>\n",
       "    </tr>\n",
       "    <tr>\n",
       "      <th>9</th>\n",
       "      <td>underU4men</td>\n",
       "      <td>None</td>\n",
       "      <td>14</td>\n",
       "    </tr>\n",
       "    <tr>\n",
       "      <th>4</th>\n",
       "      <td>Boca Restobar &amp; Grill</td>\n",
       "      <td>Moderate</td>\n",
       "      <td>10</td>\n",
       "    </tr>\n",
       "  </tbody>\n",
       "</table>\n",
       "</div>"
      ],
      "text/plain": [
       "                    name      price_tier  likes\n",
       "0        Espresso Vivace           Cheap    380\n",
       "3                Witness        Moderate    210\n",
       "7                  Poppy       Expensive    195\n",
       "6              Bait Shop        Moderate    135\n",
       "2                 Altura  Very Expensive     80\n",
       "8               Lionhead            None     51\n",
       "5           Corvus & Co.       Expensive     45\n",
       "1         CorePower Yoga            None     31\n",
       "9             underU4men            None     14\n",
       "4  Boca Restobar & Grill        Moderate     10"
      ]
     },
     "execution_count": 51,
     "metadata": {},
     "output_type": "execute_result"
    }
   ],
   "source": [
    "ch_df = pd.DataFrame(ch_venue_info, columns=['name', 'price_tier', 'likes'])\n",
    "ch_df['price_tier'] = ch_df.apply(get_price_tier, axis=1)\n",
    "ch_df.sort_values('likes', ascending=False)"
   ]
  },
  {
   "cell_type": "markdown",
   "metadata": {},
   "source": [
    "Seems like Capitol Hill have a lot more expensive restaurants than the other two areas! Similar to Wicker Parker, it has more restaurants in the area than activity venues(such as Yoga, parks, tattoo parlors, etc.)"
   ]
  },
  {
   "cell_type": "markdown",
   "metadata": {},
   "source": [
    "# Results"
   ]
  },
  {
   "cell_type": "markdown",
   "metadata": {},
   "source": [
    "##### Price Range\n",
    "\n",
    "Based on the analysis, it would seem that Queen Anne has might have a closer price range of venues to Wicker Park than Capitol Hill. However, due to the limited amounts of premium calls per day, it is possible that the expensive restaurants in Queen Anne were simply missed. Queen Anne also had more venues that do not have a labeled price tier making it harder to compare as well.  \n",
    "Capitol Hill definitely has the more expensive venues of the three areas. Just within the closer-examined 10 venues, it already had significantly more expensive venues than the other two locations."
   ]
  },
  {
   "cell_type": "markdown",
   "metadata": {},
   "source": [
    "##### Amount of Venues\n",
    "\n",
    "Queen Anne has less venues than Wicker Park does. Capitol Hill also has less but more than Queen Anne.  \n",
    "It would seem that Wicker Park outnumbers both areas in terms of different types of venue. In the two sections of seeing what the difference in the category labels of venues are, Wicker Park have a lot more to offer."
   ]
  },
  {
   "cell_type": "markdown",
   "metadata": {},
   "source": [
    "##### Popularity\n",
    "\n",
    "Wicker Park venues have significantly more likes than Queen Anne or Capitol Hill.  \n",
    "It signifies that Wicker Park could be a busier area with more foot traffic. Or people are very vocal in that area.  \n",
    "Capitol Hill comes second."
   ]
  },
  {
   "cell_type": "markdown",
   "metadata": {},
   "source": [
    "# Discussion"
   ]
  },
  {
   "cell_type": "markdown",
   "metadata": {},
   "source": [
    "After the anaylsis, it would seem that Capitol Hill would be the better choice for someone looking for a more similar experience they got in Wicker Park. It is a tad bit more expensive but it will also provide an entertaining lifestyle. If the individual appreciated the food choices in Wicker Park, Capitol Hill can offer a similar experience on a smaller scale.  \n",
    "\n",
    "Queen Anne seems more calm and quiet. This would be a good choice for someone who would like to switch up what they got at Wicker Park. Although not as much variety of food types, there are many activities around."
   ]
  },
  {
   "cell_type": "markdown",
   "metadata": {},
   "source": [
    "# Conclusion"
   ]
  },
  {
   "cell_type": "markdown",
   "metadata": {},
   "source": [
    "Although we got a glimpse of the neighbourhoods, this is not everything there is to it. In order to know the neighbourhood, it cannot simply be based upon the venues in the area. It is based on a number of other factors such as safety, accessibility, etc.  \n",
    "Examining venues closer is important because moving across country can be stressful and frightening but when you are more comfortable with what you will be surrounded with, it can take some stress off.  \n",
    "Everyone needs activities to do when they are in a new place and choosing an area that fits your need especially during the first year can really set the tone for the rest of your time in the new city. Start off on the right foot and do some research and comparison before moving!"
   ]
  }
 ],
 "metadata": {
  "kernelspec": {
   "display_name": "Python 3.10.6 64-bit",
   "language": "python",
   "name": "python3"
  },
  "language_info": {
   "codemirror_mode": {
    "name": "ipython",
    "version": 3
   },
   "file_extension": ".py",
   "mimetype": "text/x-python",
   "name": "python",
   "nbconvert_exporter": "python",
   "pygments_lexer": "ipython3",
   "version": "3.10.6"
  },
  "vscode": {
   "interpreter": {
    "hash": "3bb5b538a5a0d6c149b960a97facabd963b6afcdef056c93f2d2175693e7d711"
   }
  }
 },
 "nbformat": 4,
 "nbformat_minor": 2
}
